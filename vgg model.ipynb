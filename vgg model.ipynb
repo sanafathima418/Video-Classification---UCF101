{
 "cells": [
  {
   "cell_type": "code",
   "execution_count": 1,
   "metadata": {
    "execution": {
     "iopub.execute_input": "2022-04-24T23:05:55.146509Z",
     "iopub.status.busy": "2022-04-24T23:05:55.146258Z",
     "iopub.status.idle": "2022-04-24T23:05:55.151282Z",
     "shell.execute_reply": "2022-04-24T23:05:55.150035Z",
     "shell.execute_reply.started": "2022-04-24T23:05:55.146480Z"
    }
   },
   "outputs": [],
   "source": [
    "import numpy\n",
    "import tensorflow as tf\n",
    "import os"
   ]
  },
  {
   "cell_type": "code",
   "execution_count": 2,
   "metadata": {
    "execution": {
     "iopub.execute_input": "2022-04-24T23:05:56.751483Z",
     "iopub.status.busy": "2022-04-24T23:05:56.751153Z",
     "iopub.status.idle": "2022-04-24T23:05:56.780090Z",
     "shell.execute_reply": "2022-04-24T23:05:56.779115Z",
     "shell.execute_reply.started": "2022-04-24T23:05:56.751451Z"
    }
   },
   "outputs": [
    {
     "name": "stdout",
     "output_type": "stream",
     "text": [
      "Metal device set to: Apple M1\n"
     ]
    },
    {
     "name": "stderr",
     "output_type": "stream",
     "text": [
      "2022-04-24 23:56:56.530967: I tensorflow/core/common_runtime/pluggable_device/pluggable_device_factory.cc:305] Could not identify NUMA node of platform GPU ID 0, defaulting to 0. Your kernel may not have been built with NUMA support.\n",
      "2022-04-24 23:56:56.532101: I tensorflow/core/common_runtime/pluggable_device/pluggable_device_factory.cc:271] Created TensorFlow device (/device:GPU:0 with 0 MB memory) -> physical PluggableDevice (device: 0, name: METAL, pci bus id: <undefined>)\n"
     ]
    },
    {
     "data": {
      "text/plain": [
       "'/device:GPU:0'"
      ]
     },
     "execution_count": 2,
     "metadata": {},
     "output_type": "execute_result"
    }
   ],
   "source": [
    "tf.test.gpu_device_name()"
   ]
  },
  {
   "cell_type": "code",
   "execution_count": 3,
   "metadata": {
    "execution": {
     "iopub.execute_input": "2022-04-24T23:05:59.043815Z",
     "iopub.status.busy": "2022-04-24T23:05:59.042958Z",
     "iopub.status.idle": "2022-04-24T23:06:01.599567Z",
     "shell.execute_reply": "2022-04-24T23:06:01.598380Z",
     "shell.execute_reply.started": "2022-04-24T23:05:59.043765Z"
    }
   },
   "outputs": [],
   "source": [
    "import cv2     # for capturing videos\n",
    "import math   # for mathematical operations\n",
    "import matplotlib.pyplot as plt    # for plotting the images\n",
    "%matplotlib inline\n",
    "import pandas as pd\n",
    "from keras.preprocessing import image   # for preprocessing the images\n",
    "import numpy as np    # for mathematical operations\n",
    "from keras.utils import np_utils\n",
    "from skimage.transform import resize   # for resizing images\n",
    "from sklearn.model_selection import train_test_split\n",
    "from glob import glob\n",
    "from tqdm import tqdm"
   ]
  },
  {
   "cell_type": "code",
   "execution_count": 41,
   "metadata": {
    "execution": {
     "iopub.execute_input": "2022-04-24T23:06:06.585825Z",
     "iopub.status.busy": "2022-04-24T23:06:06.585482Z",
     "iopub.status.idle": "2022-04-24T23:06:06.638834Z",
     "shell.execute_reply": "2022-04-24T23:06:06.638078Z",
     "shell.execute_reply.started": "2022-04-24T23:06:06.585788Z"
    }
   },
   "outputs": [
    {
     "data": {
      "text/html": [
       "<div>\n",
       "<style scoped>\n",
       "    .dataframe tbody tr th:only-of-type {\n",
       "        vertical-align: middle;\n",
       "    }\n",
       "\n",
       "    .dataframe tbody tr th {\n",
       "        vertical-align: top;\n",
       "    }\n",
       "\n",
       "    .dataframe thead th {\n",
       "        text-align: right;\n",
       "    }\n",
       "</style>\n",
       "<table border=\"1\" class=\"dataframe\">\n",
       "  <thead>\n",
       "    <tr style=\"text-align: right;\">\n",
       "      <th></th>\n",
       "      <th>video_name</th>\n",
       "    </tr>\n",
       "  </thead>\n",
       "  <tbody>\n",
       "    <tr>\n",
       "      <th>0</th>\n",
       "      <td>ApplyEyeMakeup/v_ApplyEyeMakeup_g08_c01.avi 1</td>\n",
       "    </tr>\n",
       "    <tr>\n",
       "      <th>1</th>\n",
       "      <td>ApplyEyeMakeup/v_ApplyEyeMakeup_g08_c02.avi 1</td>\n",
       "    </tr>\n",
       "    <tr>\n",
       "      <th>2</th>\n",
       "      <td>ApplyEyeMakeup/v_ApplyEyeMakeup_g08_c03.avi 1</td>\n",
       "    </tr>\n",
       "    <tr>\n",
       "      <th>3</th>\n",
       "      <td>ApplyEyeMakeup/v_ApplyEyeMakeup_g08_c04.avi 1</td>\n",
       "    </tr>\n",
       "    <tr>\n",
       "      <th>4</th>\n",
       "      <td>ApplyEyeMakeup/v_ApplyEyeMakeup_g08_c05.avi 1</td>\n",
       "    </tr>\n",
       "  </tbody>\n",
       "</table>\n",
       "</div>"
      ],
      "text/plain": [
       "                                      video_name\n",
       "0  ApplyEyeMakeup/v_ApplyEyeMakeup_g08_c01.avi 1\n",
       "1  ApplyEyeMakeup/v_ApplyEyeMakeup_g08_c02.avi 1\n",
       "2  ApplyEyeMakeup/v_ApplyEyeMakeup_g08_c03.avi 1\n",
       "3  ApplyEyeMakeup/v_ApplyEyeMakeup_g08_c04.avi 1\n",
       "4  ApplyEyeMakeup/v_ApplyEyeMakeup_g08_c05.avi 1"
      ]
     },
     "execution_count": 41,
     "metadata": {},
     "output_type": "execute_result"
    }
   ],
   "source": [
    "f = open(\"/Users/sanafathima/Desktop/ML/Project/ucfTrainTestlist/trainlist01.txt\", \"r\")\n",
    "temp = f.read()\n",
    "videos = temp.split('\\n')\n",
    "\n",
    "# creating a dataframe having video names\n",
    "train = pd.DataFrame()\n",
    "train['video_name'] = videos\n",
    "train = train[:-1]\n",
    "train.head()"
   ]
  },
  {
   "cell_type": "code",
   "execution_count": 42,
   "metadata": {
    "execution": {
     "iopub.execute_input": "2022-04-24T23:06:09.303984Z",
     "iopub.status.busy": "2022-04-24T23:06:09.303606Z",
     "iopub.status.idle": "2022-04-24T23:06:09.403061Z",
     "shell.execute_reply": "2022-04-24T23:06:09.402184Z",
     "shell.execute_reply.started": "2022-04-24T23:06:09.303947Z"
    }
   },
   "outputs": [
    {
     "data": {
      "text/html": [
       "<style type=\"text/css\">\n",
       "</style>\n",
       "<table id=\"T_69d35\" style='display:inline'>\n",
       "  <thead>\n",
       "    <tr>\n",
       "      <th class=\"blank level0\" >&nbsp;</th>\n",
       "      <th id=\"T_69d35_level0_col0\" class=\"col_heading level0 col0\" >Classes</th>\n",
       "    </tr>\n",
       "  </thead>\n",
       "  <tbody>\n",
       "    <tr>\n",
       "      <th id=\"T_69d35_level0_row0\" class=\"row_heading level0 row0\" >0</th>\n",
       "      <td id=\"T_69d35_row0_col0\" class=\"data row0 col0\" >ApplyEyeMakeup</td>\n",
       "    </tr>\n",
       "    <tr>\n",
       "      <th id=\"T_69d35_level0_row1\" class=\"row_heading level0 row1\" >1</th>\n",
       "      <td id=\"T_69d35_row1_col0\" class=\"data row1 col0\" >ApplyLipstick</td>\n",
       "    </tr>\n",
       "    <tr>\n",
       "      <th id=\"T_69d35_level0_row2\" class=\"row_heading level0 row2\" >2</th>\n",
       "      <td id=\"T_69d35_row2_col0\" class=\"data row2 col0\" >Archery</td>\n",
       "    </tr>\n",
       "    <tr>\n",
       "      <th id=\"T_69d35_level0_row3\" class=\"row_heading level0 row3\" >3</th>\n",
       "      <td id=\"T_69d35_row3_col0\" class=\"data row3 col0\" >BabyCrawling</td>\n",
       "    </tr>\n",
       "    <tr>\n",
       "      <th id=\"T_69d35_level0_row4\" class=\"row_heading level0 row4\" >4</th>\n",
       "      <td id=\"T_69d35_row4_col0\" class=\"data row4 col0\" >BalanceBeam</td>\n",
       "    </tr>\n",
       "    <tr>\n",
       "      <th id=\"T_69d35_level0_row5\" class=\"row_heading level0 row5\" >5</th>\n",
       "      <td id=\"T_69d35_row5_col0\" class=\"data row5 col0\" >BandMarching</td>\n",
       "    </tr>\n",
       "    <tr>\n",
       "      <th id=\"T_69d35_level0_row6\" class=\"row_heading level0 row6\" >6</th>\n",
       "      <td id=\"T_69d35_row6_col0\" class=\"data row6 col0\" >BaseballPitch</td>\n",
       "    </tr>\n",
       "    <tr>\n",
       "      <th id=\"T_69d35_level0_row7\" class=\"row_heading level0 row7\" >7</th>\n",
       "      <td id=\"T_69d35_row7_col0\" class=\"data row7 col0\" >Basketball</td>\n",
       "    </tr>\n",
       "    <tr>\n",
       "      <th id=\"T_69d35_level0_row8\" class=\"row_heading level0 row8\" >8</th>\n",
       "      <td id=\"T_69d35_row8_col0\" class=\"data row8 col0\" >BasketballDunk</td>\n",
       "    </tr>\n",
       "    <tr>\n",
       "      <th id=\"T_69d35_level0_row9\" class=\"row_heading level0 row9\" >9</th>\n",
       "      <td id=\"T_69d35_row9_col0\" class=\"data row9 col0\" >BenchPress</td>\n",
       "    </tr>\n",
       "    <tr>\n",
       "      <th id=\"T_69d35_level0_row10\" class=\"row_heading level0 row10\" >10</th>\n",
       "      <td id=\"T_69d35_row10_col0\" class=\"data row10 col0\" >Biking</td>\n",
       "    </tr>\n",
       "    <tr>\n",
       "      <th id=\"T_69d35_level0_row11\" class=\"row_heading level0 row11\" >11</th>\n",
       "      <td id=\"T_69d35_row11_col0\" class=\"data row11 col0\" >Billiards</td>\n",
       "    </tr>\n",
       "    <tr>\n",
       "      <th id=\"T_69d35_level0_row12\" class=\"row_heading level0 row12\" >12</th>\n",
       "      <td id=\"T_69d35_row12_col0\" class=\"data row12 col0\" >BlowDryHair</td>\n",
       "    </tr>\n",
       "    <tr>\n",
       "      <th id=\"T_69d35_level0_row13\" class=\"row_heading level0 row13\" >13</th>\n",
       "      <td id=\"T_69d35_row13_col0\" class=\"data row13 col0\" >BlowingCandles</td>\n",
       "    </tr>\n",
       "    <tr>\n",
       "      <th id=\"T_69d35_level0_row14\" class=\"row_heading level0 row14\" >14</th>\n",
       "      <td id=\"T_69d35_row14_col0\" class=\"data row14 col0\" >BodyWeightSquats</td>\n",
       "    </tr>\n",
       "    <tr>\n",
       "      <th id=\"T_69d35_level0_row15\" class=\"row_heading level0 row15\" >15</th>\n",
       "      <td id=\"T_69d35_row15_col0\" class=\"data row15 col0\" >Bowling</td>\n",
       "    </tr>\n",
       "    <tr>\n",
       "      <th id=\"T_69d35_level0_row16\" class=\"row_heading level0 row16\" >16</th>\n",
       "      <td id=\"T_69d35_row16_col0\" class=\"data row16 col0\" >BoxingPunchingBag</td>\n",
       "    </tr>\n",
       "    <tr>\n",
       "      <th id=\"T_69d35_level0_row17\" class=\"row_heading level0 row17\" >17</th>\n",
       "      <td id=\"T_69d35_row17_col0\" class=\"data row17 col0\" >BoxingSpeedBag</td>\n",
       "    </tr>\n",
       "    <tr>\n",
       "      <th id=\"T_69d35_level0_row18\" class=\"row_heading level0 row18\" >18</th>\n",
       "      <td id=\"T_69d35_row18_col0\" class=\"data row18 col0\" >BreastStroke</td>\n",
       "    </tr>\n",
       "    <tr>\n",
       "      <th id=\"T_69d35_level0_row19\" class=\"row_heading level0 row19\" >19</th>\n",
       "      <td id=\"T_69d35_row19_col0\" class=\"data row19 col0\" >BrushingTeeth</td>\n",
       "    </tr>\n",
       "    <tr>\n",
       "      <th id=\"T_69d35_level0_row20\" class=\"row_heading level0 row20\" >20</th>\n",
       "      <td id=\"T_69d35_row20_col0\" class=\"data row20 col0\" >CleanAndJerk</td>\n",
       "    </tr>\n",
       "    <tr>\n",
       "      <th id=\"T_69d35_level0_row21\" class=\"row_heading level0 row21\" >21</th>\n",
       "      <td id=\"T_69d35_row21_col0\" class=\"data row21 col0\" >CliffDiving</td>\n",
       "    </tr>\n",
       "    <tr>\n",
       "      <th id=\"T_69d35_level0_row22\" class=\"row_heading level0 row22\" >22</th>\n",
       "      <td id=\"T_69d35_row22_col0\" class=\"data row22 col0\" >CricketBowling</td>\n",
       "    </tr>\n",
       "    <tr>\n",
       "      <th id=\"T_69d35_level0_row23\" class=\"row_heading level0 row23\" >23</th>\n",
       "      <td id=\"T_69d35_row23_col0\" class=\"data row23 col0\" >CricketShot</td>\n",
       "    </tr>\n",
       "    <tr>\n",
       "      <th id=\"T_69d35_level0_row24\" class=\"row_heading level0 row24\" >24</th>\n",
       "      <td id=\"T_69d35_row24_col0\" class=\"data row24 col0\" >CuttingInKitchen</td>\n",
       "    </tr>\n",
       "  </tbody>\n",
       "</table>\n",
       "<style type=\"text/css\">\n",
       "</style>\n",
       "<table id=\"T_94b63\" style='display:inline'>\n",
       "  <thead>\n",
       "    <tr>\n",
       "      <th class=\"blank level0\" >&nbsp;</th>\n",
       "      <th id=\"T_94b63_level0_col0\" class=\"col_heading level0 col0\" >Classes</th>\n",
       "    </tr>\n",
       "  </thead>\n",
       "  <tbody>\n",
       "    <tr>\n",
       "      <th id=\"T_94b63_level0_row0\" class=\"row_heading level0 row0\" >26</th>\n",
       "      <td id=\"T_94b63_row0_col0\" class=\"data row0 col0\" >Drumming</td>\n",
       "    </tr>\n",
       "    <tr>\n",
       "      <th id=\"T_94b63_level0_row1\" class=\"row_heading level0 row1\" >27</th>\n",
       "      <td id=\"T_94b63_row1_col0\" class=\"data row1 col0\" >Fencing</td>\n",
       "    </tr>\n",
       "    <tr>\n",
       "      <th id=\"T_94b63_level0_row2\" class=\"row_heading level0 row2\" >28</th>\n",
       "      <td id=\"T_94b63_row2_col0\" class=\"data row2 col0\" >FieldHockeyPenalty</td>\n",
       "    </tr>\n",
       "    <tr>\n",
       "      <th id=\"T_94b63_level0_row3\" class=\"row_heading level0 row3\" >29</th>\n",
       "      <td id=\"T_94b63_row3_col0\" class=\"data row3 col0\" >FloorGymnastics</td>\n",
       "    </tr>\n",
       "    <tr>\n",
       "      <th id=\"T_94b63_level0_row4\" class=\"row_heading level0 row4\" >30</th>\n",
       "      <td id=\"T_94b63_row4_col0\" class=\"data row4 col0\" >FrisbeeCatch</td>\n",
       "    </tr>\n",
       "    <tr>\n",
       "      <th id=\"T_94b63_level0_row5\" class=\"row_heading level0 row5\" >31</th>\n",
       "      <td id=\"T_94b63_row5_col0\" class=\"data row5 col0\" >FrontCrawl</td>\n",
       "    </tr>\n",
       "    <tr>\n",
       "      <th id=\"T_94b63_level0_row6\" class=\"row_heading level0 row6\" >32</th>\n",
       "      <td id=\"T_94b63_row6_col0\" class=\"data row6 col0\" >GolfSwing</td>\n",
       "    </tr>\n",
       "    <tr>\n",
       "      <th id=\"T_94b63_level0_row7\" class=\"row_heading level0 row7\" >33</th>\n",
       "      <td id=\"T_94b63_row7_col0\" class=\"data row7 col0\" >Haircut</td>\n",
       "    </tr>\n",
       "    <tr>\n",
       "      <th id=\"T_94b63_level0_row8\" class=\"row_heading level0 row8\" >34</th>\n",
       "      <td id=\"T_94b63_row8_col0\" class=\"data row8 col0\" >Hammering</td>\n",
       "    </tr>\n",
       "    <tr>\n",
       "      <th id=\"T_94b63_level0_row9\" class=\"row_heading level0 row9\" >35</th>\n",
       "      <td id=\"T_94b63_row9_col0\" class=\"data row9 col0\" >HammerThrow</td>\n",
       "    </tr>\n",
       "    <tr>\n",
       "      <th id=\"T_94b63_level0_row10\" class=\"row_heading level0 row10\" >36</th>\n",
       "      <td id=\"T_94b63_row10_col0\" class=\"data row10 col0\" >HandstandPushups</td>\n",
       "    </tr>\n",
       "    <tr>\n",
       "      <th id=\"T_94b63_level0_row11\" class=\"row_heading level0 row11\" >37</th>\n",
       "      <td id=\"T_94b63_row11_col0\" class=\"data row11 col0\" >HandstandWalking</td>\n",
       "    </tr>\n",
       "    <tr>\n",
       "      <th id=\"T_94b63_level0_row12\" class=\"row_heading level0 row12\" >38</th>\n",
       "      <td id=\"T_94b63_row12_col0\" class=\"data row12 col0\" >HeadMassage</td>\n",
       "    </tr>\n",
       "    <tr>\n",
       "      <th id=\"T_94b63_level0_row13\" class=\"row_heading level0 row13\" >39</th>\n",
       "      <td id=\"T_94b63_row13_col0\" class=\"data row13 col0\" >HighJump</td>\n",
       "    </tr>\n",
       "    <tr>\n",
       "      <th id=\"T_94b63_level0_row14\" class=\"row_heading level0 row14\" >40</th>\n",
       "      <td id=\"T_94b63_row14_col0\" class=\"data row14 col0\" >HorseRace</td>\n",
       "    </tr>\n",
       "    <tr>\n",
       "      <th id=\"T_94b63_level0_row15\" class=\"row_heading level0 row15\" >41</th>\n",
       "      <td id=\"T_94b63_row15_col0\" class=\"data row15 col0\" >HorseRiding</td>\n",
       "    </tr>\n",
       "    <tr>\n",
       "      <th id=\"T_94b63_level0_row16\" class=\"row_heading level0 row16\" >42</th>\n",
       "      <td id=\"T_94b63_row16_col0\" class=\"data row16 col0\" >HulaHoop</td>\n",
       "    </tr>\n",
       "    <tr>\n",
       "      <th id=\"T_94b63_level0_row17\" class=\"row_heading level0 row17\" >43</th>\n",
       "      <td id=\"T_94b63_row17_col0\" class=\"data row17 col0\" >IceDancing</td>\n",
       "    </tr>\n",
       "    <tr>\n",
       "      <th id=\"T_94b63_level0_row18\" class=\"row_heading level0 row18\" >44</th>\n",
       "      <td id=\"T_94b63_row18_col0\" class=\"data row18 col0\" >JavelinThrow</td>\n",
       "    </tr>\n",
       "    <tr>\n",
       "      <th id=\"T_94b63_level0_row19\" class=\"row_heading level0 row19\" >45</th>\n",
       "      <td id=\"T_94b63_row19_col0\" class=\"data row19 col0\" >JugglingBalls</td>\n",
       "    </tr>\n",
       "    <tr>\n",
       "      <th id=\"T_94b63_level0_row20\" class=\"row_heading level0 row20\" >46</th>\n",
       "      <td id=\"T_94b63_row20_col0\" class=\"data row20 col0\" >JumpingJack</td>\n",
       "    </tr>\n",
       "    <tr>\n",
       "      <th id=\"T_94b63_level0_row21\" class=\"row_heading level0 row21\" >47</th>\n",
       "      <td id=\"T_94b63_row21_col0\" class=\"data row21 col0\" >JumpRope</td>\n",
       "    </tr>\n",
       "    <tr>\n",
       "      <th id=\"T_94b63_level0_row22\" class=\"row_heading level0 row22\" >48</th>\n",
       "      <td id=\"T_94b63_row22_col0\" class=\"data row22 col0\" >Kayaking</td>\n",
       "    </tr>\n",
       "    <tr>\n",
       "      <th id=\"T_94b63_level0_row23\" class=\"row_heading level0 row23\" >49</th>\n",
       "      <td id=\"T_94b63_row23_col0\" class=\"data row23 col0\" >Knitting</td>\n",
       "    </tr>\n",
       "    <tr>\n",
       "      <th id=\"T_94b63_level0_row24\" class=\"row_heading level0 row24\" >50</th>\n",
       "      <td id=\"T_94b63_row24_col0\" class=\"data row24 col0\" >LongJump</td>\n",
       "    </tr>\n",
       "  </tbody>\n",
       "</table>\n",
       "<style type=\"text/css\">\n",
       "</style>\n",
       "<table id=\"T_6f78f\" style='display:inline'>\n",
       "  <thead>\n",
       "    <tr>\n",
       "      <th class=\"blank level0\" >&nbsp;</th>\n",
       "      <th id=\"T_6f78f_level0_col0\" class=\"col_heading level0 col0\" >Classes</th>\n",
       "    </tr>\n",
       "  </thead>\n",
       "  <tbody>\n",
       "    <tr>\n",
       "      <th id=\"T_6f78f_level0_row0\" class=\"row_heading level0 row0\" >52</th>\n",
       "      <td id=\"T_6f78f_row0_col0\" class=\"data row0 col0\" >MilitaryParade</td>\n",
       "    </tr>\n",
       "    <tr>\n",
       "      <th id=\"T_6f78f_level0_row1\" class=\"row_heading level0 row1\" >53</th>\n",
       "      <td id=\"T_6f78f_row1_col0\" class=\"data row1 col0\" >Mixing</td>\n",
       "    </tr>\n",
       "    <tr>\n",
       "      <th id=\"T_6f78f_level0_row2\" class=\"row_heading level0 row2\" >54</th>\n",
       "      <td id=\"T_6f78f_row2_col0\" class=\"data row2 col0\" >MoppingFloor</td>\n",
       "    </tr>\n",
       "    <tr>\n",
       "      <th id=\"T_6f78f_level0_row3\" class=\"row_heading level0 row3\" >55</th>\n",
       "      <td id=\"T_6f78f_row3_col0\" class=\"data row3 col0\" >Nunchucks</td>\n",
       "    </tr>\n",
       "    <tr>\n",
       "      <th id=\"T_6f78f_level0_row4\" class=\"row_heading level0 row4\" >56</th>\n",
       "      <td id=\"T_6f78f_row4_col0\" class=\"data row4 col0\" >ParallelBars</td>\n",
       "    </tr>\n",
       "    <tr>\n",
       "      <th id=\"T_6f78f_level0_row5\" class=\"row_heading level0 row5\" >57</th>\n",
       "      <td id=\"T_6f78f_row5_col0\" class=\"data row5 col0\" >PizzaTossing</td>\n",
       "    </tr>\n",
       "    <tr>\n",
       "      <th id=\"T_6f78f_level0_row6\" class=\"row_heading level0 row6\" >58</th>\n",
       "      <td id=\"T_6f78f_row6_col0\" class=\"data row6 col0\" >PlayingCello</td>\n",
       "    </tr>\n",
       "    <tr>\n",
       "      <th id=\"T_6f78f_level0_row7\" class=\"row_heading level0 row7\" >59</th>\n",
       "      <td id=\"T_6f78f_row7_col0\" class=\"data row7 col0\" >PlayingDaf</td>\n",
       "    </tr>\n",
       "    <tr>\n",
       "      <th id=\"T_6f78f_level0_row8\" class=\"row_heading level0 row8\" >60</th>\n",
       "      <td id=\"T_6f78f_row8_col0\" class=\"data row8 col0\" >PlayingDhol</td>\n",
       "    </tr>\n",
       "    <tr>\n",
       "      <th id=\"T_6f78f_level0_row9\" class=\"row_heading level0 row9\" >61</th>\n",
       "      <td id=\"T_6f78f_row9_col0\" class=\"data row9 col0\" >PlayingFlute</td>\n",
       "    </tr>\n",
       "    <tr>\n",
       "      <th id=\"T_6f78f_level0_row10\" class=\"row_heading level0 row10\" >62</th>\n",
       "      <td id=\"T_6f78f_row10_col0\" class=\"data row10 col0\" >PlayingGuitar</td>\n",
       "    </tr>\n",
       "    <tr>\n",
       "      <th id=\"T_6f78f_level0_row11\" class=\"row_heading level0 row11\" >63</th>\n",
       "      <td id=\"T_6f78f_row11_col0\" class=\"data row11 col0\" >PlayingPiano</td>\n",
       "    </tr>\n",
       "    <tr>\n",
       "      <th id=\"T_6f78f_level0_row12\" class=\"row_heading level0 row12\" >64</th>\n",
       "      <td id=\"T_6f78f_row12_col0\" class=\"data row12 col0\" >PlayingSitar</td>\n",
       "    </tr>\n",
       "    <tr>\n",
       "      <th id=\"T_6f78f_level0_row13\" class=\"row_heading level0 row13\" >65</th>\n",
       "      <td id=\"T_6f78f_row13_col0\" class=\"data row13 col0\" >PlayingTabla</td>\n",
       "    </tr>\n",
       "    <tr>\n",
       "      <th id=\"T_6f78f_level0_row14\" class=\"row_heading level0 row14\" >66</th>\n",
       "      <td id=\"T_6f78f_row14_col0\" class=\"data row14 col0\" >PlayingViolin</td>\n",
       "    </tr>\n",
       "    <tr>\n",
       "      <th id=\"T_6f78f_level0_row15\" class=\"row_heading level0 row15\" >67</th>\n",
       "      <td id=\"T_6f78f_row15_col0\" class=\"data row15 col0\" >PoleVault</td>\n",
       "    </tr>\n",
       "    <tr>\n",
       "      <th id=\"T_6f78f_level0_row16\" class=\"row_heading level0 row16\" >68</th>\n",
       "      <td id=\"T_6f78f_row16_col0\" class=\"data row16 col0\" >PommelHorse</td>\n",
       "    </tr>\n",
       "    <tr>\n",
       "      <th id=\"T_6f78f_level0_row17\" class=\"row_heading level0 row17\" >69</th>\n",
       "      <td id=\"T_6f78f_row17_col0\" class=\"data row17 col0\" >PullUps</td>\n",
       "    </tr>\n",
       "    <tr>\n",
       "      <th id=\"T_6f78f_level0_row18\" class=\"row_heading level0 row18\" >70</th>\n",
       "      <td id=\"T_6f78f_row18_col0\" class=\"data row18 col0\" >Punch</td>\n",
       "    </tr>\n",
       "    <tr>\n",
       "      <th id=\"T_6f78f_level0_row19\" class=\"row_heading level0 row19\" >71</th>\n",
       "      <td id=\"T_6f78f_row19_col0\" class=\"data row19 col0\" >PushUps</td>\n",
       "    </tr>\n",
       "    <tr>\n",
       "      <th id=\"T_6f78f_level0_row20\" class=\"row_heading level0 row20\" >72</th>\n",
       "      <td id=\"T_6f78f_row20_col0\" class=\"data row20 col0\" >Rafting</td>\n",
       "    </tr>\n",
       "    <tr>\n",
       "      <th id=\"T_6f78f_level0_row21\" class=\"row_heading level0 row21\" >73</th>\n",
       "      <td id=\"T_6f78f_row21_col0\" class=\"data row21 col0\" >RockClimbingIndoor</td>\n",
       "    </tr>\n",
       "    <tr>\n",
       "      <th id=\"T_6f78f_level0_row22\" class=\"row_heading level0 row22\" >74</th>\n",
       "      <td id=\"T_6f78f_row22_col0\" class=\"data row22 col0\" >RopeClimbing</td>\n",
       "    </tr>\n",
       "    <tr>\n",
       "      <th id=\"T_6f78f_level0_row23\" class=\"row_heading level0 row23\" >75</th>\n",
       "      <td id=\"T_6f78f_row23_col0\" class=\"data row23 col0\" >Rowing</td>\n",
       "    </tr>\n",
       "  </tbody>\n",
       "</table>\n",
       "<style type=\"text/css\">\n",
       "</style>\n",
       "<table id=\"T_88e30\" style='display:inline'>\n",
       "  <thead>\n",
       "    <tr>\n",
       "      <th class=\"blank level0\" >&nbsp;</th>\n",
       "      <th id=\"T_88e30_level0_col0\" class=\"col_heading level0 col0\" >Classes</th>\n",
       "    </tr>\n",
       "  </thead>\n",
       "  <tbody>\n",
       "    <tr>\n",
       "      <th id=\"T_88e30_level0_row0\" class=\"row_heading level0 row0\" >77</th>\n",
       "      <td id=\"T_88e30_row0_col0\" class=\"data row0 col0\" >ShavingBeard</td>\n",
       "    </tr>\n",
       "    <tr>\n",
       "      <th id=\"T_88e30_level0_row1\" class=\"row_heading level0 row1\" >78</th>\n",
       "      <td id=\"T_88e30_row1_col0\" class=\"data row1 col0\" >Shotput</td>\n",
       "    </tr>\n",
       "    <tr>\n",
       "      <th id=\"T_88e30_level0_row2\" class=\"row_heading level0 row2\" >79</th>\n",
       "      <td id=\"T_88e30_row2_col0\" class=\"data row2 col0\" >SkateBoarding</td>\n",
       "    </tr>\n",
       "    <tr>\n",
       "      <th id=\"T_88e30_level0_row3\" class=\"row_heading level0 row3\" >80</th>\n",
       "      <td id=\"T_88e30_row3_col0\" class=\"data row3 col0\" >Skiing</td>\n",
       "    </tr>\n",
       "    <tr>\n",
       "      <th id=\"T_88e30_level0_row4\" class=\"row_heading level0 row4\" >81</th>\n",
       "      <td id=\"T_88e30_row4_col0\" class=\"data row4 col0\" >Skijet</td>\n",
       "    </tr>\n",
       "    <tr>\n",
       "      <th id=\"T_88e30_level0_row5\" class=\"row_heading level0 row5\" >82</th>\n",
       "      <td id=\"T_88e30_row5_col0\" class=\"data row5 col0\" >SkyDiving</td>\n",
       "    </tr>\n",
       "    <tr>\n",
       "      <th id=\"T_88e30_level0_row6\" class=\"row_heading level0 row6\" >83</th>\n",
       "      <td id=\"T_88e30_row6_col0\" class=\"data row6 col0\" >SoccerJuggling</td>\n",
       "    </tr>\n",
       "    <tr>\n",
       "      <th id=\"T_88e30_level0_row7\" class=\"row_heading level0 row7\" >84</th>\n",
       "      <td id=\"T_88e30_row7_col0\" class=\"data row7 col0\" >SoccerPenalty</td>\n",
       "    </tr>\n",
       "    <tr>\n",
       "      <th id=\"T_88e30_level0_row8\" class=\"row_heading level0 row8\" >85</th>\n",
       "      <td id=\"T_88e30_row8_col0\" class=\"data row8 col0\" >StillRings</td>\n",
       "    </tr>\n",
       "    <tr>\n",
       "      <th id=\"T_88e30_level0_row9\" class=\"row_heading level0 row9\" >86</th>\n",
       "      <td id=\"T_88e30_row9_col0\" class=\"data row9 col0\" >SumoWrestling</td>\n",
       "    </tr>\n",
       "    <tr>\n",
       "      <th id=\"T_88e30_level0_row10\" class=\"row_heading level0 row10\" >87</th>\n",
       "      <td id=\"T_88e30_row10_col0\" class=\"data row10 col0\" >Surfing</td>\n",
       "    </tr>\n",
       "    <tr>\n",
       "      <th id=\"T_88e30_level0_row11\" class=\"row_heading level0 row11\" >88</th>\n",
       "      <td id=\"T_88e30_row11_col0\" class=\"data row11 col0\" >Swing</td>\n",
       "    </tr>\n",
       "    <tr>\n",
       "      <th id=\"T_88e30_level0_row12\" class=\"row_heading level0 row12\" >89</th>\n",
       "      <td id=\"T_88e30_row12_col0\" class=\"data row12 col0\" >TableTennisShot</td>\n",
       "    </tr>\n",
       "    <tr>\n",
       "      <th id=\"T_88e30_level0_row13\" class=\"row_heading level0 row13\" >90</th>\n",
       "      <td id=\"T_88e30_row13_col0\" class=\"data row13 col0\" >TaiChi</td>\n",
       "    </tr>\n",
       "    <tr>\n",
       "      <th id=\"T_88e30_level0_row14\" class=\"row_heading level0 row14\" >91</th>\n",
       "      <td id=\"T_88e30_row14_col0\" class=\"data row14 col0\" >TennisSwing</td>\n",
       "    </tr>\n",
       "    <tr>\n",
       "      <th id=\"T_88e30_level0_row15\" class=\"row_heading level0 row15\" >92</th>\n",
       "      <td id=\"T_88e30_row15_col0\" class=\"data row15 col0\" >ThrowDiscus</td>\n",
       "    </tr>\n",
       "    <tr>\n",
       "      <th id=\"T_88e30_level0_row16\" class=\"row_heading level0 row16\" >93</th>\n",
       "      <td id=\"T_88e30_row16_col0\" class=\"data row16 col0\" >TrampolineJumping</td>\n",
       "    </tr>\n",
       "    <tr>\n",
       "      <th id=\"T_88e30_level0_row17\" class=\"row_heading level0 row17\" >94</th>\n",
       "      <td id=\"T_88e30_row17_col0\" class=\"data row17 col0\" >Typing</td>\n",
       "    </tr>\n",
       "    <tr>\n",
       "      <th id=\"T_88e30_level0_row18\" class=\"row_heading level0 row18\" >95</th>\n",
       "      <td id=\"T_88e30_row18_col0\" class=\"data row18 col0\" >UnevenBars</td>\n",
       "    </tr>\n",
       "    <tr>\n",
       "      <th id=\"T_88e30_level0_row19\" class=\"row_heading level0 row19\" >96</th>\n",
       "      <td id=\"T_88e30_row19_col0\" class=\"data row19 col0\" >VolleyballSpiking</td>\n",
       "    </tr>\n",
       "    <tr>\n",
       "      <th id=\"T_88e30_level0_row20\" class=\"row_heading level0 row20\" >97</th>\n",
       "      <td id=\"T_88e30_row20_col0\" class=\"data row20 col0\" >WalkingWithDog</td>\n",
       "    </tr>\n",
       "    <tr>\n",
       "      <th id=\"T_88e30_level0_row21\" class=\"row_heading level0 row21\" >98</th>\n",
       "      <td id=\"T_88e30_row21_col0\" class=\"data row21 col0\" >WallPushups</td>\n",
       "    </tr>\n",
       "    <tr>\n",
       "      <th id=\"T_88e30_level0_row22\" class=\"row_heading level0 row22\" >99</th>\n",
       "      <td id=\"T_88e30_row22_col0\" class=\"data row22 col0\" >WritingOnBoard</td>\n",
       "    </tr>\n",
       "    <tr>\n",
       "      <th id=\"T_88e30_level0_row23\" class=\"row_heading level0 row23\" >100</th>\n",
       "      <td id=\"T_88e30_row23_col0\" class=\"data row23 col0\" >YoY</td>\n",
       "    </tr>\n",
       "  </tbody>\n",
       "</table>\n"
      ]
     },
     "metadata": {},
     "output_type": "display_data"
    }
   ],
   "source": [
    "import pandas as pd\n",
    "import numpy as np\n",
    "from IPython.display import display, HTML, display_html \n",
    "\n",
    "CSS = \"\"\"\n",
    ".output {\n",
    "    flex-direction: row;\n",
    "}\n",
    "\"\"\"\n",
    "\n",
    "HTML('<style>{}</style>'.format(CSS))\n",
    "\n",
    "\n",
    "df_csv = pd.read_csv('/Users/sanafathima/Downloads/ucfTrainTestlist/classInd1.txt')\n",
    "\n",
    "df1_styler = df_csv[0:25].style.set_table_attributes(\"style='display:inline'\")\n",
    "df2_styler = df_csv[26:51].style.set_table_attributes(\"style='display:inline'\")\n",
    "df3_styler = df_csv[52:76].style.set_table_attributes(\"style='display:inline'\")\n",
    "df4_styler = df_csv[77:101].style.set_table_attributes(\"style='display:inline'\")\n",
    "\n",
    "display_html(df1_styler._repr_html_()+df2_styler._repr_html_()+df3_styler._repr_html_()+df4_styler._repr_html_(), raw=True)\n",
    "\n",
    "\n"
   ]
  },
  {
   "cell_type": "code",
   "execution_count": 43,
   "metadata": {
    "execution": {
     "iopub.execute_input": "2022-04-24T23:06:12.867251Z",
     "iopub.status.busy": "2022-04-24T23:06:12.866353Z",
     "iopub.status.idle": "2022-04-24T23:06:12.897800Z",
     "shell.execute_reply": "2022-04-24T23:06:12.896464Z",
     "shell.execute_reply.started": "2022-04-24T23:06:12.867182Z"
    }
   },
   "outputs": [
    {
     "data": {
      "text/html": [
       "<div>\n",
       "<style scoped>\n",
       "    .dataframe tbody tr th:only-of-type {\n",
       "        vertical-align: middle;\n",
       "    }\n",
       "\n",
       "    .dataframe tbody tr th {\n",
       "        vertical-align: top;\n",
       "    }\n",
       "\n",
       "    .dataframe thead th {\n",
       "        text-align: right;\n",
       "    }\n",
       "</style>\n",
       "<table border=\"1\" class=\"dataframe\">\n",
       "  <thead>\n",
       "    <tr style=\"text-align: right;\">\n",
       "      <th></th>\n",
       "      <th>video_name</th>\n",
       "    </tr>\n",
       "  </thead>\n",
       "  <tbody>\n",
       "    <tr>\n",
       "      <th>0</th>\n",
       "      <td>ApplyEyeMakeup/v_ApplyEyeMakeup_g01_c01.avi</td>\n",
       "    </tr>\n",
       "    <tr>\n",
       "      <th>1</th>\n",
       "      <td>ApplyEyeMakeup/v_ApplyEyeMakeup_g01_c02.avi</td>\n",
       "    </tr>\n",
       "    <tr>\n",
       "      <th>2</th>\n",
       "      <td>ApplyEyeMakeup/v_ApplyEyeMakeup_g01_c03.avi</td>\n",
       "    </tr>\n",
       "    <tr>\n",
       "      <th>3</th>\n",
       "      <td>ApplyEyeMakeup/v_ApplyEyeMakeup_g01_c04.avi</td>\n",
       "    </tr>\n",
       "    <tr>\n",
       "      <th>4</th>\n",
       "      <td>ApplyEyeMakeup/v_ApplyEyeMakeup_g01_c05.avi</td>\n",
       "    </tr>\n",
       "  </tbody>\n",
       "</table>\n",
       "</div>"
      ],
      "text/plain": [
       "                                    video_name\n",
       "0  ApplyEyeMakeup/v_ApplyEyeMakeup_g01_c01.avi\n",
       "1  ApplyEyeMakeup/v_ApplyEyeMakeup_g01_c02.avi\n",
       "2  ApplyEyeMakeup/v_ApplyEyeMakeup_g01_c03.avi\n",
       "3  ApplyEyeMakeup/v_ApplyEyeMakeup_g01_c04.avi\n",
       "4  ApplyEyeMakeup/v_ApplyEyeMakeup_g01_c05.avi"
      ]
     },
     "execution_count": 43,
     "metadata": {},
     "output_type": "execute_result"
    }
   ],
   "source": [
    "f = open(\"/Users/sanafathima/Downloads/ucfTrainTestlist/testlist01.txt\", \"r\")\n",
    "temp = f.read()\n",
    "videos = temp.split('\\n')\n",
    "\n",
    "# creating a dataframe having video names\n",
    "test = pd.DataFrame()\n",
    "test['video_name'] = videos\n",
    "test = test[:-1]\n",
    "test.head()"
   ]
  },
  {
   "cell_type": "code",
   "execution_count": 44,
   "metadata": {
    "execution": {
     "iopub.execute_input": "2022-04-24T23:06:14.823888Z",
     "iopub.status.busy": "2022-04-24T23:06:14.823044Z",
     "iopub.status.idle": "2022-04-24T23:06:14.947186Z",
     "shell.execute_reply": "2022-04-24T23:06:14.946146Z",
     "shell.execute_reply.started": "2022-04-24T23:06:14.823840Z"
    }
   },
   "outputs": [],
   "source": [
    "# creating tags for training videos\n",
    "train_video_tag = []\n",
    "for i in range(train.shape[0]):\n",
    "    train_video_tag.append(train['video_name'][i].split('/')[0])\n",
    "    \n",
    "train['tag'] = train_video_tag\n",
    "\n",
    "# creating tags for test videos\n",
    "test_video_tag = []\n",
    "for i in range(test.shape[0]):\n",
    "    test_video_tag.append(test['video_name'][i].split('/')[0])\n",
    "    \n",
    "test['tag'] = test_video_tag"
   ]
  },
  {
   "cell_type": "code",
   "execution_count": 45,
   "metadata": {
    "execution": {
     "iopub.execute_input": "2022-04-24T23:06:15.164904Z",
     "iopub.status.busy": "2022-04-24T23:06:15.164259Z",
     "iopub.status.idle": "2022-04-24T23:06:15.180168Z",
     "shell.execute_reply": "2022-04-24T23:06:15.179061Z",
     "shell.execute_reply.started": "2022-04-24T23:06:15.164848Z"
    }
   },
   "outputs": [
    {
     "data": {
      "text/html": [
       "<div>\n",
       "<style scoped>\n",
       "    .dataframe tbody tr th:only-of-type {\n",
       "        vertical-align: middle;\n",
       "    }\n",
       "\n",
       "    .dataframe tbody tr th {\n",
       "        vertical-align: top;\n",
       "    }\n",
       "\n",
       "    .dataframe thead th {\n",
       "        text-align: right;\n",
       "    }\n",
       "</style>\n",
       "<table border=\"1\" class=\"dataframe\">\n",
       "  <thead>\n",
       "    <tr style=\"text-align: right;\">\n",
       "      <th></th>\n",
       "      <th>video_name</th>\n",
       "      <th>tag</th>\n",
       "    </tr>\n",
       "  </thead>\n",
       "  <tbody>\n",
       "    <tr>\n",
       "      <th>0</th>\n",
       "      <td>ApplyEyeMakeup/v_ApplyEyeMakeup_g08_c01.avi 1</td>\n",
       "      <td>ApplyEyeMakeup</td>\n",
       "    </tr>\n",
       "    <tr>\n",
       "      <th>1</th>\n",
       "      <td>ApplyEyeMakeup/v_ApplyEyeMakeup_g08_c02.avi 1</td>\n",
       "      <td>ApplyEyeMakeup</td>\n",
       "    </tr>\n",
       "    <tr>\n",
       "      <th>2</th>\n",
       "      <td>ApplyEyeMakeup/v_ApplyEyeMakeup_g08_c03.avi 1</td>\n",
       "      <td>ApplyEyeMakeup</td>\n",
       "    </tr>\n",
       "    <tr>\n",
       "      <th>3</th>\n",
       "      <td>ApplyEyeMakeup/v_ApplyEyeMakeup_g08_c04.avi 1</td>\n",
       "      <td>ApplyEyeMakeup</td>\n",
       "    </tr>\n",
       "    <tr>\n",
       "      <th>4</th>\n",
       "      <td>ApplyEyeMakeup/v_ApplyEyeMakeup_g08_c05.avi 1</td>\n",
       "      <td>ApplyEyeMakeup</td>\n",
       "    </tr>\n",
       "    <tr>\n",
       "      <th>...</th>\n",
       "      <td>...</td>\n",
       "      <td>...</td>\n",
       "    </tr>\n",
       "    <tr>\n",
       "      <th>9532</th>\n",
       "      <td>YoYo/v_YoYo_g25_c01.avi 101</td>\n",
       "      <td>YoYo</td>\n",
       "    </tr>\n",
       "    <tr>\n",
       "      <th>9533</th>\n",
       "      <td>YoYo/v_YoYo_g25_c02.avi 101</td>\n",
       "      <td>YoYo</td>\n",
       "    </tr>\n",
       "    <tr>\n",
       "      <th>9534</th>\n",
       "      <td>YoYo/v_YoYo_g25_c03.avi 101</td>\n",
       "      <td>YoYo</td>\n",
       "    </tr>\n",
       "    <tr>\n",
       "      <th>9535</th>\n",
       "      <td>YoYo/v_YoYo_g25_c04.avi 101</td>\n",
       "      <td>YoYo</td>\n",
       "    </tr>\n",
       "    <tr>\n",
       "      <th>9536</th>\n",
       "      <td>YoYo/v_YoYo_g25_c05.avi 101</td>\n",
       "      <td>YoYo</td>\n",
       "    </tr>\n",
       "  </tbody>\n",
       "</table>\n",
       "<p>9537 rows × 2 columns</p>\n",
       "</div>"
      ],
      "text/plain": [
       "                                         video_name             tag\n",
       "0     ApplyEyeMakeup/v_ApplyEyeMakeup_g08_c01.avi 1  ApplyEyeMakeup\n",
       "1     ApplyEyeMakeup/v_ApplyEyeMakeup_g08_c02.avi 1  ApplyEyeMakeup\n",
       "2     ApplyEyeMakeup/v_ApplyEyeMakeup_g08_c03.avi 1  ApplyEyeMakeup\n",
       "3     ApplyEyeMakeup/v_ApplyEyeMakeup_g08_c04.avi 1  ApplyEyeMakeup\n",
       "4     ApplyEyeMakeup/v_ApplyEyeMakeup_g08_c05.avi 1  ApplyEyeMakeup\n",
       "...                                             ...             ...\n",
       "9532                    YoYo/v_YoYo_g25_c01.avi 101            YoYo\n",
       "9533                    YoYo/v_YoYo_g25_c02.avi 101            YoYo\n",
       "9534                    YoYo/v_YoYo_g25_c03.avi 101            YoYo\n",
       "9535                    YoYo/v_YoYo_g25_c04.avi 101            YoYo\n",
       "9536                    YoYo/v_YoYo_g25_c05.avi 101            YoYo\n",
       "\n",
       "[9537 rows x 2 columns]"
      ]
     },
     "execution_count": 45,
     "metadata": {},
     "output_type": "execute_result"
    }
   ],
   "source": [
    "train"
   ]
  },
  {
   "cell_type": "code",
   "execution_count": 46,
   "metadata": {
    "execution": {
     "iopub.execute_input": "2022-04-24T23:06:16.675653Z",
     "iopub.status.busy": "2022-04-24T23:06:16.674983Z",
     "iopub.status.idle": "2022-04-24T23:06:16.692008Z",
     "shell.execute_reply": "2022-04-24T23:06:16.690881Z",
     "shell.execute_reply.started": "2022-04-24T23:06:16.675592Z"
    }
   },
   "outputs": [
    {
     "data": {
      "text/html": [
       "<div>\n",
       "<style scoped>\n",
       "    .dataframe tbody tr th:only-of-type {\n",
       "        vertical-align: middle;\n",
       "    }\n",
       "\n",
       "    .dataframe tbody tr th {\n",
       "        vertical-align: top;\n",
       "    }\n",
       "\n",
       "    .dataframe thead th {\n",
       "        text-align: right;\n",
       "    }\n",
       "</style>\n",
       "<table border=\"1\" class=\"dataframe\">\n",
       "  <thead>\n",
       "    <tr style=\"text-align: right;\">\n",
       "      <th></th>\n",
       "      <th>video_name</th>\n",
       "      <th>tag</th>\n",
       "    </tr>\n",
       "  </thead>\n",
       "  <tbody>\n",
       "    <tr>\n",
       "      <th>0</th>\n",
       "      <td>ApplyEyeMakeup/v_ApplyEyeMakeup_g01_c01.avi</td>\n",
       "      <td>ApplyEyeMakeup</td>\n",
       "    </tr>\n",
       "    <tr>\n",
       "      <th>1</th>\n",
       "      <td>ApplyEyeMakeup/v_ApplyEyeMakeup_g01_c02.avi</td>\n",
       "      <td>ApplyEyeMakeup</td>\n",
       "    </tr>\n",
       "    <tr>\n",
       "      <th>2</th>\n",
       "      <td>ApplyEyeMakeup/v_ApplyEyeMakeup_g01_c03.avi</td>\n",
       "      <td>ApplyEyeMakeup</td>\n",
       "    </tr>\n",
       "    <tr>\n",
       "      <th>3</th>\n",
       "      <td>ApplyEyeMakeup/v_ApplyEyeMakeup_g01_c04.avi</td>\n",
       "      <td>ApplyEyeMakeup</td>\n",
       "    </tr>\n",
       "    <tr>\n",
       "      <th>4</th>\n",
       "      <td>ApplyEyeMakeup/v_ApplyEyeMakeup_g01_c05.avi</td>\n",
       "      <td>ApplyEyeMakeup</td>\n",
       "    </tr>\n",
       "    <tr>\n",
       "      <th>...</th>\n",
       "      <td>...</td>\n",
       "      <td>...</td>\n",
       "    </tr>\n",
       "    <tr>\n",
       "      <th>3778</th>\n",
       "      <td>YoYo/v_YoYo_g06_c04.avi</td>\n",
       "      <td>YoYo</td>\n",
       "    </tr>\n",
       "    <tr>\n",
       "      <th>3779</th>\n",
       "      <td>YoYo/v_YoYo_g07_c01.avi</td>\n",
       "      <td>YoYo</td>\n",
       "    </tr>\n",
       "    <tr>\n",
       "      <th>3780</th>\n",
       "      <td>YoYo/v_YoYo_g07_c02.avi</td>\n",
       "      <td>YoYo</td>\n",
       "    </tr>\n",
       "    <tr>\n",
       "      <th>3781</th>\n",
       "      <td>YoYo/v_YoYo_g07_c03.avi</td>\n",
       "      <td>YoYo</td>\n",
       "    </tr>\n",
       "    <tr>\n",
       "      <th>3782</th>\n",
       "      <td>YoYo/v_YoYo_g07_c04.avi</td>\n",
       "      <td>YoYo</td>\n",
       "    </tr>\n",
       "  </tbody>\n",
       "</table>\n",
       "<p>3783 rows × 2 columns</p>\n",
       "</div>"
      ],
      "text/plain": [
       "                                       video_name             tag\n",
       "0     ApplyEyeMakeup/v_ApplyEyeMakeup_g01_c01.avi  ApplyEyeMakeup\n",
       "1     ApplyEyeMakeup/v_ApplyEyeMakeup_g01_c02.avi  ApplyEyeMakeup\n",
       "2     ApplyEyeMakeup/v_ApplyEyeMakeup_g01_c03.avi  ApplyEyeMakeup\n",
       "3     ApplyEyeMakeup/v_ApplyEyeMakeup_g01_c04.avi  ApplyEyeMakeup\n",
       "4     ApplyEyeMakeup/v_ApplyEyeMakeup_g01_c05.avi  ApplyEyeMakeup\n",
       "...                                           ...             ...\n",
       "3778                      YoYo/v_YoYo_g06_c04.avi            YoYo\n",
       "3779                      YoYo/v_YoYo_g07_c01.avi            YoYo\n",
       "3780                      YoYo/v_YoYo_g07_c02.avi            YoYo\n",
       "3781                      YoYo/v_YoYo_g07_c03.avi            YoYo\n",
       "3782                      YoYo/v_YoYo_g07_c04.avi            YoYo\n",
       "\n",
       "[3783 rows x 2 columns]"
      ]
     },
     "execution_count": 46,
     "metadata": {},
     "output_type": "execute_result"
    }
   ],
   "source": [
    "test"
   ]
  },
  {
   "cell_type": "code",
   "execution_count": 11,
   "metadata": {
    "execution": {
     "iopub.execute_input": "2022-04-24T23:06:29.865596Z",
     "iopub.status.busy": "2022-04-24T23:06:29.864739Z",
     "iopub.status.idle": "2022-04-24T23:06:29.870758Z",
     "shell.execute_reply": "2022-04-24T23:06:29.869798Z",
     "shell.execute_reply.started": "2022-04-24T23:06:29.865539Z"
    }
   },
   "outputs": [],
   "source": [
    "#os.mkdir('/kaggle/working/train01/')"
   ]
  },
  {
   "cell_type": "code",
   "execution_count": 12,
   "metadata": {
    "execution": {
     "iopub.execute_input": "2022-04-24T23:06:32.992878Z",
     "iopub.status.busy": "2022-04-24T23:06:32.992055Z",
     "iopub.status.idle": "2022-04-24T23:18:42.500807Z",
     "shell.execute_reply": "2022-04-24T23:18:42.498492Z",
     "shell.execute_reply.started": "2022-04-24T23:06:32.992820Z"
    }
   },
   "outputs": [
    {
     "name": "stderr",
     "output_type": "stream",
     "text": [
      "100%|██████████| 9537/9537 [12:09<00:00, 13.07it/s]\n"
     ]
    }
   ],
   "source": [
    "for i in tqdm(range(train.shape[0])):\n",
    "    count = 0\n",
    "    videoFile = train['video_name'][i]\n",
    "    cap = cv2.VideoCapture('../input/video-classification/Videos/Videos/'+videoFile.split(' ')[0].split('/')[1])   # capturing the video from the given path\n",
    "    frameRate = cap.get(5) #frame rate\n",
    "    x=1\n",
    "    while(cap.isOpened()):\n",
    "        frameId = cap.get(1) #current frame number\n",
    "        ret, frame = cap.read()\n",
    "        if (ret != True):\n",
    "            break\n",
    "        if (frameId % math.floor(frameRate) == 0):\n",
    "            # storing the frames in a new folder named train_1\n",
    "            filename ='./train01/' + videoFile.split('/')[1].split(' ')[0] +\"_frame%d.jpg\" % count;count+=1\n",
    "            cv2.imwrite(filename, frame)\n",
    "    cap.release()"
   ]
  },
  {
   "cell_type": "code",
   "execution_count": 13,
   "metadata": {
    "execution": {
     "iopub.execute_input": "2022-04-24T23:18:47.232506Z",
     "iopub.status.busy": "2022-04-24T23:18:47.231008Z",
     "iopub.status.idle": "2022-04-24T23:18:47.245194Z",
     "shell.execute_reply": "2022-04-24T23:18:47.243537Z",
     "shell.execute_reply.started": "2022-04-24T23:18:47.232415Z"
    }
   },
   "outputs": [
    {
     "data": {
      "text/plain": [
       "9537"
      ]
     },
     "execution_count": 13,
     "metadata": {},
     "output_type": "execute_result"
    }
   ],
   "source": [
    "train.shape[0]"
   ]
  },
  {
   "cell_type": "code",
   "execution_count": 47,
   "metadata": {
    "execution": {
     "iopub.execute_input": "2022-04-24T23:18:52.194479Z",
     "iopub.status.busy": "2022-04-24T23:18:52.194170Z",
     "iopub.status.idle": "2022-04-24T23:18:52.976843Z",
     "shell.execute_reply": "2022-04-24T23:18:52.975786Z",
     "shell.execute_reply.started": "2022-04-24T23:18:52.194447Z"
    }
   },
   "outputs": [
    {
     "name": "stderr",
     "output_type": "stream",
     "text": [
      "100%|████████████████████████████████| 73844/73844 [00:00<00:00, 1291836.19it/s]\n"
     ]
    }
   ],
   "source": [
    "# getting the names of all the images\n",
    "images = glob(\"/Users/sanafathima/Downloads/train_1/*.jpg\")\n",
    "train_image = []\n",
    "train_class = []\n",
    "for i in tqdm(range(len(images))):\n",
    "    # creating the image name\n",
    "    train_image.append(images[i].split('/')[5])\n",
    "    # creating the class of image\n",
    "    train_class.append(images[i].split('/')[5].split('_')[1])\n",
    "    \n",
    "# storing the images and their class in a dataframe\n",
    "train_data = pd.DataFrame()\n",
    "train_data['image'] = train_image\n",
    "train_data['class'] = train_class\n",
    "\n",
    "# converting the dataframe into csv file \n",
    "train_data.to_csv('./train_new.csv',header=True, index=False)"
   ]
  },
  {
   "cell_type": "code",
   "execution_count": 48,
   "metadata": {
    "execution": {
     "iopub.execute_input": "2022-04-24T23:18:55.582930Z",
     "iopub.status.busy": "2022-04-24T23:18:55.582600Z",
     "iopub.status.idle": "2022-04-24T23:18:55.602594Z",
     "shell.execute_reply": "2022-04-24T23:18:55.601764Z",
     "shell.execute_reply.started": "2022-04-24T23:18:55.582897Z"
    }
   },
   "outputs": [],
   "source": [
    "import keras\n",
    "from keras.models import Sequential\n",
    "from keras.applications.vgg16 import VGG16\n",
    "from keras.layers import Dense, InputLayer, Dropout, Flatten\n",
    "from keras.layers import Conv2D, MaxPooling2D, GlobalMaxPooling2D\n",
    "from keras.preprocessing import image\n",
    "import numpy as np\n",
    "import pandas as pd\n",
    "import matplotlib.pyplot as plt\n",
    "from tqdm import tqdm\n",
    "from sklearn.model_selection import train_test_split"
   ]
  },
  {
   "cell_type": "code",
   "execution_count": 49,
   "metadata": {
    "execution": {
     "iopub.execute_input": "2022-04-24T23:18:57.093661Z",
     "iopub.status.busy": "2022-04-24T23:18:57.093358Z",
     "iopub.status.idle": "2022-04-24T23:18:57.191387Z",
     "shell.execute_reply": "2022-04-24T23:18:57.190301Z",
     "shell.execute_reply.started": "2022-04-24T23:18:57.093631Z"
    }
   },
   "outputs": [
    {
     "data": {
      "text/html": [
       "<div>\n",
       "<style scoped>\n",
       "    .dataframe tbody tr th:only-of-type {\n",
       "        vertical-align: middle;\n",
       "    }\n",
       "\n",
       "    .dataframe tbody tr th {\n",
       "        vertical-align: top;\n",
       "    }\n",
       "\n",
       "    .dataframe thead th {\n",
       "        text-align: right;\n",
       "    }\n",
       "</style>\n",
       "<table border=\"1\" class=\"dataframe\">\n",
       "  <thead>\n",
       "    <tr style=\"text-align: right;\">\n",
       "      <th></th>\n",
       "      <th>image</th>\n",
       "      <th>class</th>\n",
       "    </tr>\n",
       "  </thead>\n",
       "  <tbody>\n",
       "    <tr>\n",
       "      <th>0</th>\n",
       "      <td>v_Nunchucks_g25_c02.avi_frame0.jpg</td>\n",
       "      <td>Nunchucks</td>\n",
       "    </tr>\n",
       "    <tr>\n",
       "      <th>1</th>\n",
       "      <td>v_HorseRace_g19_c02.avi_frame7.jpg</td>\n",
       "      <td>HorseRace</td>\n",
       "    </tr>\n",
       "    <tr>\n",
       "      <th>2</th>\n",
       "      <td>v_Billiards_g24_c02.avi_frame4.jpg</td>\n",
       "      <td>Billiards</td>\n",
       "    </tr>\n",
       "    <tr>\n",
       "      <th>3</th>\n",
       "      <td>v_RopeClimbing_g18_c04.avi_frame0.jpg</td>\n",
       "      <td>RopeClimbing</td>\n",
       "    </tr>\n",
       "    <tr>\n",
       "      <th>4</th>\n",
       "      <td>v_Hammering_g14_c05.avi_frame2.jpg</td>\n",
       "      <td>Hammering</td>\n",
       "    </tr>\n",
       "  </tbody>\n",
       "</table>\n",
       "</div>"
      ],
      "text/plain": [
       "                                   image         class\n",
       "0     v_Nunchucks_g25_c02.avi_frame0.jpg     Nunchucks\n",
       "1     v_HorseRace_g19_c02.avi_frame7.jpg     HorseRace\n",
       "2     v_Billiards_g24_c02.avi_frame4.jpg     Billiards\n",
       "3  v_RopeClimbing_g18_c04.avi_frame0.jpg  RopeClimbing\n",
       "4     v_Hammering_g14_c05.avi_frame2.jpg     Hammering"
      ]
     },
     "execution_count": 49,
     "metadata": {},
     "output_type": "execute_result"
    }
   ],
   "source": [
    "train = pd.read_csv('./train_new.csv')\n",
    "train.head()"
   ]
  },
  {
   "cell_type": "code",
   "execution_count": 15,
   "metadata": {
    "execution": {
     "iopub.execute_input": "2022-04-24T08:41:45.385317Z",
     "iopub.status.busy": "2022-04-24T08:41:45.384975Z",
     "iopub.status.idle": "2022-04-24T08:42:28.707193Z",
     "shell.execute_reply": "2022-04-24T08:42:28.706441Z",
     "shell.execute_reply.started": "2022-04-24T08:41:45.385281Z"
    }
   },
   "outputs": [
    {
     "name": "stderr",
     "output_type": "stream",
     "text": [
      "100%|██████████| 27000/27000 [00:40<00:00, 673.30it/s]\n"
     ]
    },
    {
     "data": {
      "text/plain": [
       "(27000, 112, 112, 3)"
      ]
     },
     "execution_count": 15,
     "metadata": {},
     "output_type": "execute_result"
    }
   ],
   "source": [
    "train_image = []\n",
    "\n",
    "# for loop to read and store frames\n",
    "for i in tqdm(range(27000)):\n",
    "    # loading the image and keeping the target size as (224,224,3)\n",
    "    img = image.load_img('./train01/'+train['image'][i], target_size=(112,112,1))\n",
    "    # converting it to array\n",
    "    img = image.img_to_array(img)\n",
    "    # normalizing the pixel value\n",
    "    img = img/255\n",
    "    # appending the image to the train_image list\n",
    "    train_image.append(img)\n",
    "    \n",
    "# converting the list to numpy array\n",
    "X = np.array(train_image)\n",
    "\n",
    "# shape of the array\n",
    "X.shape"
   ]
  },
  {
   "cell_type": "code",
   "execution_count": 11,
   "metadata": {
    "execution": {
     "iopub.execute_input": "2022-04-24T23:19:02.637510Z",
     "iopub.status.busy": "2022-04-24T23:19:02.636439Z",
     "iopub.status.idle": "2022-04-24T23:19:15.796399Z",
     "shell.execute_reply": "2022-04-24T23:19:15.795213Z",
     "shell.execute_reply.started": "2022-04-24T23:19:02.637205Z"
    }
   },
   "outputs": [
    {
     "name": "stdout",
     "output_type": "stream",
     "text": [
      "Collecting img2vec_pytorch\n",
      "  Downloading img2vec_pytorch-1.0.1-py3-none-any.whl (6.9 kB)\n",
      "Collecting torchvision\n",
      "  Downloading torchvision-0.12.0-cp38-cp38-macosx_11_0_arm64.whl (1.2 MB)\n",
      "\u001b[K     |████████████████████████████████| 1.2 MB 3.5 MB/s eta 0:00:01\n",
      "\u001b[?25hCollecting torch\n",
      "  Downloading torch-1.11.0-cp38-none-macosx_11_0_arm64.whl (43.1 MB)\n",
      "\u001b[K     |████████████████████████████████| 43.1 MB 35.5 MB/s eta 0:00:01\n",
      "\u001b[?25hRequirement already satisfied: numpy in /Users/sanafathima/miniforge3/envs/mlp/lib/python3.8/site-packages (from img2vec_pytorch) (1.22.2)\n",
      "Collecting typing-extensions\n",
      "  Downloading typing_extensions-4.2.0-py3-none-any.whl (24 kB)\n",
      "Requirement already satisfied: requests in /Users/sanafathima/miniforge3/envs/mlp/lib/python3.8/site-packages (from torchvision->img2vec_pytorch) (2.27.1)\n",
      "Requirement already satisfied: pillow!=8.3.*,>=5.3.0 in /Users/sanafathima/miniforge3/envs/mlp/lib/python3.8/site-packages (from torchvision->img2vec_pytorch) (9.0.1)\n",
      "Requirement already satisfied: idna<4,>=2.5 in /Users/sanafathima/miniforge3/envs/mlp/lib/python3.8/site-packages (from requests->torchvision->img2vec_pytorch) (3.3)\n",
      "Requirement already satisfied: charset-normalizer~=2.0.0 in /Users/sanafathima/miniforge3/envs/mlp/lib/python3.8/site-packages (from requests->torchvision->img2vec_pytorch) (2.0.11)\n",
      "Requirement already satisfied: urllib3<1.27,>=1.21.1 in /Users/sanafathima/miniforge3/envs/mlp/lib/python3.8/site-packages (from requests->torchvision->img2vec_pytorch) (1.26.8)\n",
      "Requirement already satisfied: certifi>=2017.4.17 in /Users/sanafathima/miniforge3/envs/mlp/lib/python3.8/site-packages (from requests->torchvision->img2vec_pytorch) (2021.10.8)\n",
      "Installing collected packages: typing-extensions, torch, torchvision, img2vec-pytorch\n",
      "Successfully installed img2vec-pytorch-1.0.1 torch-1.11.0 torchvision-0.12.0 typing-extensions-4.2.0\n",
      "Note: you may need to restart the kernel to use updated packages.\n"
     ]
    }
   ],
   "source": [
    "pip install img2vec_pytorch "
   ]
  },
  {
   "cell_type": "code",
   "execution_count": 12,
   "metadata": {
    "execution": {
     "iopub.execute_input": "2022-04-24T23:19:18.101552Z",
     "iopub.status.busy": "2022-04-24T23:19:18.101012Z",
     "iopub.status.idle": "2022-04-24T23:19:20.039387Z",
     "shell.execute_reply": "2022-04-24T23:19:20.037792Z",
     "shell.execute_reply.started": "2022-04-24T23:19:18.101510Z"
    }
   },
   "outputs": [],
   "source": [
    "from img2vec_pytorch import Img2Vec\n",
    "from PIL import Image"
   ]
  },
  {
   "cell_type": "code",
   "execution_count": 50,
   "metadata": {
    "execution": {
     "iopub.execute_input": "2022-04-25T00:24:22.259265Z",
     "iopub.status.busy": "2022-04-25T00:24:22.258877Z",
     "iopub.status.idle": "2022-04-25T01:35:34.541272Z",
     "shell.execute_reply": "2022-04-25T01:35:34.539881Z",
     "shell.execute_reply.started": "2022-04-25T00:24:22.259228Z"
    }
   },
   "outputs": [
    {
     "name": "stderr",
     "output_type": "stream",
     "text": [
      "Downloading: \"https://download.pytorch.org/models/vgg11_bn-6002323d.pth\" to /Users/sanafathima/.cache/torch/hub/checkpoints/vgg11_bn-6002323d.pth\n"
     ]
    },
    {
     "data": {
      "application/vnd.jupyter.widget-view+json": {
       "model_id": "a59f29f8411641f4812450313e2b4c0f",
       "version_major": 2,
       "version_minor": 0
      },
      "text/plain": [
       "  0%|          | 0.00/507M [00:00<?, ?B/s]"
      ]
     },
     "metadata": {},
     "output_type": "display_data"
    },
    {
     "name": "stderr",
     "output_type": "stream",
     "text": [
      "100%|███████████████████████████████████| 73844/73844 [1:10:46<00:00, 17.39it/s]\n"
     ]
    },
    {
     "data": {
      "text/plain": [
       "(73844, 4096)"
      ]
     },
     "execution_count": 50,
     "metadata": {},
     "output_type": "execute_result"
    }
   ],
   "source": [
    "img2vec = Img2Vec(model = 'vgg')\n",
    "train_image = np.zeros((train.shape[0], 4096))\n",
    "\n",
    "for i in tqdm(range(train.shape[0])):\n",
    "    # loading the image and keeping the target size as (224,224,3)\n",
    "    #img = image.load_img('./train01/'+train['image'][i], target_size=(112,112,1))\n",
    "    image_read = Image.open('/Users/sanafathima/Downloads/train_1/'+train['image'][i])\n",
    "    image_all = img2vec.get_vec(image_read,tensor=True)\n",
    "    image_all = image_all.flatten().numpy()\n",
    "    train_image[i] = image_all\n",
    "    \n",
    "X = np.array(train_image)\n",
    "\n",
    "# shape of the array\n",
    "X.shape"
   ]
  },
  {
   "cell_type": "code",
   "execution_count": 51,
   "metadata": {
    "execution": {
     "iopub.execute_input": "2022-04-25T01:37:08.034390Z",
     "iopub.status.busy": "2022-04-25T01:37:08.034004Z",
     "iopub.status.idle": "2022-04-25T01:37:08.042421Z",
     "shell.execute_reply": "2022-04-25T01:37:08.041222Z",
     "shell.execute_reply.started": "2022-04-25T01:37:08.034355Z"
    }
   },
   "outputs": [
    {
     "data": {
      "text/plain": [
       "(73844,)"
      ]
     },
     "execution_count": 51,
     "metadata": {},
     "output_type": "execute_result"
    }
   ],
   "source": [
    "# separating the target\n",
    "y1 = train['class']\n",
    "y1.shape"
   ]
  },
  {
   "cell_type": "code",
   "execution_count": 52,
   "metadata": {
    "execution": {
     "iopub.execute_input": "2022-04-25T01:38:46.547538Z",
     "iopub.status.busy": "2022-04-25T01:38:46.547243Z",
     "iopub.status.idle": "2022-04-25T01:38:46.841328Z",
     "shell.execute_reply": "2022-04-25T01:38:46.840470Z",
     "shell.execute_reply.started": "2022-04-25T01:38:46.547509Z"
    }
   },
   "outputs": [],
   "source": [
    "# creating the training and validation set\n",
    "X_train, X_test, y_train, y_test = train_test_split(X, y1, random_state=42, test_size=0.2, stratify = y1)"
   ]
  },
  {
   "cell_type": "code",
   "execution_count": 21,
   "metadata": {
    "execution": {
     "iopub.execute_input": "2022-04-24T10:29:22.803691Z",
     "iopub.status.busy": "2022-04-24T10:29:22.803075Z",
     "iopub.status.idle": "2022-04-24T10:29:22.808391Z",
     "shell.execute_reply": "2022-04-24T10:29:22.807323Z",
     "shell.execute_reply.started": "2022-04-24T10:29:22.803653Z"
    }
   },
   "outputs": [],
   "source": [
    "X =0\n",
    "y1 = 0"
   ]
  },
  {
   "cell_type": "code",
   "execution_count": 53,
   "metadata": {
    "execution": {
     "iopub.execute_input": "2022-04-25T01:38:49.952132Z",
     "iopub.status.busy": "2022-04-25T01:38:49.951191Z",
     "iopub.status.idle": "2022-04-25T01:38:50.011110Z",
     "shell.execute_reply": "2022-04-25T01:38:50.010061Z",
     "shell.execute_reply.started": "2022-04-25T01:38:49.952057Z"
    }
   },
   "outputs": [],
   "source": [
    "y_train = pd.get_dummies(y_train)\n",
    "y_test = pd.get_dummies(y_test)"
   ]
  },
  {
   "cell_type": "code",
   "execution_count": 20,
   "metadata": {
    "execution": {
     "iopub.execute_input": "2022-04-24T08:44:30.319687Z",
     "iopub.status.busy": "2022-04-24T08:44:30.319395Z",
     "iopub.status.idle": "2022-04-24T08:44:31.459951Z",
     "shell.execute_reply": "2022-04-24T08:44:31.459141Z",
     "shell.execute_reply.started": "2022-04-24T08:44:30.319654Z"
    }
   },
   "outputs": [
    {
     "name": "stderr",
     "output_type": "stream",
     "text": [
      "2022-04-24 08:44:30.409664: I tensorflow/stream_executor/cuda/cuda_gpu_executor.cc:937] successful NUMA node read from SysFS had negative value (-1), but there must be at least one NUMA node, so returning NUMA node zero\n",
      "2022-04-24 08:44:30.419647: I tensorflow/stream_executor/cuda/cuda_gpu_executor.cc:937] successful NUMA node read from SysFS had negative value (-1), but there must be at least one NUMA node, so returning NUMA node zero\n",
      "2022-04-24 08:44:30.420348: I tensorflow/stream_executor/cuda/cuda_gpu_executor.cc:937] successful NUMA node read from SysFS had negative value (-1), but there must be at least one NUMA node, so returning NUMA node zero\n",
      "2022-04-24 08:44:30.423103: I tensorflow/stream_executor/cuda/cuda_gpu_executor.cc:937] successful NUMA node read from SysFS had negative value (-1), but there must be at least one NUMA node, so returning NUMA node zero\n",
      "2022-04-24 08:44:30.423828: I tensorflow/stream_executor/cuda/cuda_gpu_executor.cc:937] successful NUMA node read from SysFS had negative value (-1), but there must be at least one NUMA node, so returning NUMA node zero\n",
      "2022-04-24 08:44:30.424482: I tensorflow/stream_executor/cuda/cuda_gpu_executor.cc:937] successful NUMA node read from SysFS had negative value (-1), but there must be at least one NUMA node, so returning NUMA node zero\n",
      "2022-04-24 08:44:30.427773: I tensorflow/stream_executor/cuda/cuda_gpu_executor.cc:937] successful NUMA node read from SysFS had negative value (-1), but there must be at least one NUMA node, so returning NUMA node zero\n",
      "2022-04-24 08:44:30.428502: I tensorflow/stream_executor/cuda/cuda_gpu_executor.cc:937] successful NUMA node read from SysFS had negative value (-1), but there must be at least one NUMA node, so returning NUMA node zero\n",
      "2022-04-24 08:44:30.430078: I tensorflow/core/common_runtime/gpu/gpu_device.cc:1510] Created device /job:localhost/replica:0/task:0/device:GPU:0 with 15403 MB memory:  -> device: 0, name: Tesla P100-PCIE-16GB, pci bus id: 0000:00:04.0, compute capability: 6.0\n"
     ]
    },
    {
     "name": "stdout",
     "output_type": "stream",
     "text": [
      "Downloading data from https://storage.googleapis.com/tensorflow/keras-applications/vgg16/vgg16_weights_tf_dim_ordering_tf_kernels_notop.h5\n",
      "58892288/58889256 [==============================] - 0s 0us/step\n",
      "58900480/58889256 [==============================] - 0s 0us/step\n"
     ]
    }
   ],
   "source": [
    "# creating the base model of pre-trained VGG16 model\n",
    "base_model = VGG16(weights='imagenet', include_top=False)"
   ]
  },
  {
   "cell_type": "code",
   "execution_count": 21,
   "metadata": {
    "execution": {
     "iopub.execute_input": "2022-04-24T08:44:47.104305Z",
     "iopub.status.busy": "2022-04-24T08:44:47.103833Z",
     "iopub.status.idle": "2022-04-24T08:45:13.137058Z",
     "shell.execute_reply": "2022-04-24T08:45:13.136068Z",
     "shell.execute_reply.started": "2022-04-24T08:44:47.104260Z"
    }
   },
   "outputs": [
    {
     "name": "stderr",
     "output_type": "stream",
     "text": [
      "2022-04-24 08:44:47.110273: W tensorflow/core/framework/cpu_allocator_impl.cc:80] Allocation of 2844979200 exceeds 10% of free system memory.\n",
      "2022-04-24 08:44:50.384112: W tensorflow/core/framework/cpu_allocator_impl.cc:80] Allocation of 2844979200 exceeds 10% of free system memory.\n",
      "2022-04-24 08:44:52.405540: I tensorflow/compiler/mlir/mlir_graph_optimization_pass.cc:185] None of the MLIR Optimization Passes are enabled (registered 2)\n",
      "2022-04-24 08:44:53.327937: I tensorflow/stream_executor/cuda/cuda_dnn.cc:369] Loaded cuDNN version 8005\n"
     ]
    },
    {
     "data": {
      "text/plain": [
       "(18900, 3, 3, 512)"
      ]
     },
     "execution_count": 21,
     "metadata": {},
     "output_type": "execute_result"
    }
   ],
   "source": [
    "# extracting features for training frames\n",
    "X_train = base_model.predict(X_train)\n",
    "X_train.shape"
   ]
  },
  {
   "cell_type": "code",
   "execution_count": 22,
   "metadata": {
    "execution": {
     "iopub.execute_input": "2022-04-24T08:45:21.263883Z",
     "iopub.status.busy": "2022-04-24T08:45:21.263335Z",
     "iopub.status.idle": "2022-04-24T08:45:28.289560Z",
     "shell.execute_reply": "2022-04-24T08:45:28.288797Z",
     "shell.execute_reply.started": "2022-04-24T08:45:21.263843Z"
    }
   },
   "outputs": [
    {
     "name": "stderr",
     "output_type": "stream",
     "text": [
      "2022-04-24 08:45:21.276815: W tensorflow/core/framework/cpu_allocator_impl.cc:80] Allocation of 1219276800 exceeds 10% of free system memory.\n",
      "2022-04-24 08:45:22.715279: W tensorflow/core/framework/cpu_allocator_impl.cc:80] Allocation of 1219276800 exceeds 10% of free system memory.\n"
     ]
    },
    {
     "data": {
      "text/plain": [
       "(8100, 3, 3, 512)"
      ]
     },
     "execution_count": 22,
     "metadata": {},
     "output_type": "execute_result"
    }
   ],
   "source": [
    "X_test = base_model.predict(X_test)\n",
    "X_test.shape"
   ]
  },
  {
   "cell_type": "code",
   "execution_count": 23,
   "metadata": {
    "execution": {
     "iopub.execute_input": "2022-04-24T08:45:48.393233Z",
     "iopub.status.busy": "2022-04-24T08:45:48.392415Z",
     "iopub.status.idle": "2022-04-24T08:45:48.399567Z",
     "shell.execute_reply": "2022-04-24T08:45:48.397291Z",
     "shell.execute_reply.started": "2022-04-24T08:45:48.393165Z"
    }
   },
   "outputs": [],
   "source": [
    "X_train = X_train.reshape(18900, 3*3*512)\n",
    "X_test = X_test.reshape(8100, 3*3*512)"
   ]
  },
  {
   "cell_type": "code",
   "execution_count": 24,
   "metadata": {
    "execution": {
     "iopub.execute_input": "2022-04-24T08:45:54.341249Z",
     "iopub.status.busy": "2022-04-24T08:45:54.340896Z",
     "iopub.status.idle": "2022-04-24T08:45:54.555342Z",
     "shell.execute_reply": "2022-04-24T08:45:54.554386Z",
     "shell.execute_reply.started": "2022-04-24T08:45:54.341190Z"
    }
   },
   "outputs": [],
   "source": [
    "max = X_train.max()\n",
    "X_train = X_train/max\n",
    "X_test = X_test/max"
   ]
  },
  {
   "cell_type": "code",
   "execution_count": 54,
   "metadata": {
    "execution": {
     "iopub.execute_input": "2022-04-25T01:41:35.846549Z",
     "iopub.status.busy": "2022-04-25T01:41:35.845466Z",
     "iopub.status.idle": "2022-04-25T01:41:35.853576Z",
     "shell.execute_reply": "2022-04-25T01:41:35.852600Z",
     "shell.execute_reply.started": "2022-04-25T01:41:35.846503Z"
    }
   },
   "outputs": [
    {
     "data": {
      "text/plain": [
       "(59075, 4096)"
      ]
     },
     "execution_count": 54,
     "metadata": {},
     "output_type": "execute_result"
    }
   ],
   "source": [
    "X_train.shape"
   ]
  },
  {
   "cell_type": "code",
   "execution_count": 55,
   "metadata": {
    "execution": {
     "iopub.execute_input": "2022-04-25T01:43:41.150566Z",
     "iopub.status.busy": "2022-04-25T01:43:41.150282Z",
     "iopub.status.idle": "2022-04-25T01:43:41.246717Z",
     "shell.execute_reply": "2022-04-25T01:43:41.245619Z",
     "shell.execute_reply.started": "2022-04-25T01:43:41.150538Z"
    }
   },
   "outputs": [],
   "source": [
    "model = Sequential()\n",
    "model.add(Dense(1024, activation='relu', input_shape=(4096,)))\n",
    "model.add(Dropout(0.3))\n",
    "model.add(Dense(1024, activation='relu'))\n",
    "model.add(Dropout(0.3))\n",
    "model.add(Dense(512, activation='relu'))\n",
    "model.add(Dropout(0.3))\n",
    "model.add(Dense(256, activation='relu'))\n",
    "model.add(Dropout(0.3))\n",
    "model.add(Dense(101, activation='softmax'))"
   ]
  },
  {
   "cell_type": "code",
   "execution_count": 56,
   "metadata": {
    "execution": {
     "iopub.execute_input": "2022-04-25T01:43:42.246691Z",
     "iopub.status.busy": "2022-04-25T01:43:42.245906Z",
     "iopub.status.idle": "2022-04-25T01:43:42.251887Z",
     "shell.execute_reply": "2022-04-25T01:43:42.250982Z",
     "shell.execute_reply.started": "2022-04-25T01:43:42.246638Z"
    }
   },
   "outputs": [],
   "source": [
    "# defining a function to save the weights of best model\n",
    "from keras.callbacks import ModelCheckpoint\n",
    "mcp_save = ModelCheckpoint('weight.hdf5', save_best_only=True, monitor='val_loss', mode='min')"
   ]
  },
  {
   "cell_type": "code",
   "execution_count": 57,
   "metadata": {
    "execution": {
     "iopub.execute_input": "2022-04-25T01:43:43.082153Z",
     "iopub.status.busy": "2022-04-25T01:43:43.081269Z",
     "iopub.status.idle": "2022-04-25T01:43:43.094009Z",
     "shell.execute_reply": "2022-04-25T01:43:43.092951Z",
     "shell.execute_reply.started": "2022-04-25T01:43:43.082085Z"
    }
   },
   "outputs": [],
   "source": [
    "# compiling the model\n",
    "model.compile(loss='categorical_crossentropy',optimizer='Adam',metrics=['accuracy'])"
   ]
  },
  {
   "cell_type": "code",
   "execution_count": 58,
   "metadata": {
    "execution": {
     "iopub.execute_input": "2022-04-25T01:43:55.107169Z",
     "iopub.status.busy": "2022-04-25T01:43:55.106837Z",
     "iopub.status.idle": "2022-04-25T01:52:00.106166Z",
     "shell.execute_reply": "2022-04-25T01:52:00.104822Z",
     "shell.execute_reply.started": "2022-04-25T01:43:55.107132Z"
    },
    "scrolled": true
   },
   "outputs": [
    {
     "name": "stdout",
     "output_type": "stream",
     "text": [
      "Epoch 1/30\n"
     ]
    },
    {
     "name": "stderr",
     "output_type": "stream",
     "text": [
      "2022-04-25 02:02:27.621426: I tensorflow/core/grappler/optimizers/custom_graph_optimizer_registry.cc:112] Plugin optimizer for device_type GPU is enabled.\n"
     ]
    },
    {
     "name": "stdout",
     "output_type": "stream",
     "text": [
      "462/462 [==============================] - ETA: 0s - loss: 1.5889 - accuracy: 0.5959"
     ]
    },
    {
     "name": "stderr",
     "output_type": "stream",
     "text": [
      "2022-04-25 02:02:37.467700: I tensorflow/core/grappler/optimizers/custom_graph_optimizer_registry.cc:112] Plugin optimizer for device_type GPU is enabled.\n"
     ]
    },
    {
     "name": "stdout",
     "output_type": "stream",
     "text": [
      "462/462 [==============================] - 12s 22ms/step - loss: 1.5889 - accuracy: 0.5959 - val_loss: 0.5034 - val_accuracy: 0.8596\n",
      "Epoch 2/30\n",
      "462/462 [==============================] - 8s 17ms/step - loss: 0.5393 - accuracy: 0.8461 - val_loss: 0.2787 - val_accuracy: 0.9203\n",
      "Epoch 3/30\n",
      "462/462 [==============================] - 8s 16ms/step - loss: 0.3593 - accuracy: 0.8970 - val_loss: 0.2127 - val_accuracy: 0.9373\n",
      "Epoch 4/30\n",
      "462/462 [==============================] - 8s 17ms/step - loss: 0.2808 - accuracy: 0.9191 - val_loss: 0.1967 - val_accuracy: 0.9420\n",
      "Epoch 5/30\n",
      "462/462 [==============================] - 8s 16ms/step - loss: 0.2364 - accuracy: 0.9329 - val_loss: 0.1531 - val_accuracy: 0.9598\n",
      "Epoch 6/30\n",
      "462/462 [==============================] - 8s 17ms/step - loss: 0.2057 - accuracy: 0.9419 - val_loss: 0.1475 - val_accuracy: 0.9590\n",
      "Epoch 7/30\n",
      "462/462 [==============================] - 8s 17ms/step - loss: 0.1862 - accuracy: 0.9478 - val_loss: 0.1411 - val_accuracy: 0.9628\n",
      "Epoch 8/30\n",
      "462/462 [==============================] - 8s 17ms/step - loss: 0.1811 - accuracy: 0.9505 - val_loss: 0.1365 - val_accuracy: 0.9638\n",
      "Epoch 9/30\n",
      "462/462 [==============================] - 8s 17ms/step - loss: 0.1556 - accuracy: 0.9580 - val_loss: 0.1236 - val_accuracy: 0.9666\n",
      "Epoch 10/30\n",
      "462/462 [==============================] - 8s 17ms/step - loss: 0.1519 - accuracy: 0.9601 - val_loss: 0.1204 - val_accuracy: 0.9685\n",
      "Epoch 11/30\n",
      "462/462 [==============================] - 7s 16ms/step - loss: 0.1458 - accuracy: 0.9615 - val_loss: 0.1328 - val_accuracy: 0.9674\n",
      "Epoch 12/30\n",
      "462/462 [==============================] - 7s 16ms/step - loss: 0.1337 - accuracy: 0.9650 - val_loss: 0.1260 - val_accuracy: 0.9686\n",
      "Epoch 13/30\n",
      "462/462 [==============================] - 8s 16ms/step - loss: 0.1323 - accuracy: 0.9660 - val_loss: 0.1228 - val_accuracy: 0.9701\n",
      "Epoch 14/30\n",
      "462/462 [==============================] - 8s 17ms/step - loss: 0.1297 - accuracy: 0.9665 - val_loss: 0.1161 - val_accuracy: 0.9707\n",
      "Epoch 15/30\n",
      "462/462 [==============================] - 8s 16ms/step - loss: 0.1301 - accuracy: 0.9681 - val_loss: 0.1071 - val_accuracy: 0.9725\n",
      "Epoch 16/30\n",
      "462/462 [==============================] - 7s 16ms/step - loss: 0.1173 - accuracy: 0.9704 - val_loss: 0.1293 - val_accuracy: 0.9705\n",
      "Epoch 17/30\n",
      "462/462 [==============================] - 8s 17ms/step - loss: 0.1180 - accuracy: 0.9706 - val_loss: 0.1121 - val_accuracy: 0.9754\n",
      "Epoch 18/30\n",
      "462/462 [==============================] - 7s 16ms/step - loss: 0.1154 - accuracy: 0.9726 - val_loss: 0.1265 - val_accuracy: 0.9716\n",
      "Epoch 19/30\n",
      "462/462 [==============================] - 8s 16ms/step - loss: 0.1163 - accuracy: 0.9723 - val_loss: 0.1207 - val_accuracy: 0.9708\n",
      "Epoch 20/30\n",
      "462/462 [==============================] - 7s 16ms/step - loss: 0.1045 - accuracy: 0.9756 - val_loss: 0.1211 - val_accuracy: 0.9767\n",
      "Epoch 21/30\n",
      "462/462 [==============================] - 8s 17ms/step - loss: 0.1214 - accuracy: 0.9716 - val_loss: 0.1176 - val_accuracy: 0.9737\n",
      "Epoch 22/30\n",
      "462/462 [==============================] - 8s 17ms/step - loss: 0.1114 - accuracy: 0.9741 - val_loss: 0.1039 - val_accuracy: 0.9767\n",
      "Epoch 23/30\n",
      "462/462 [==============================] - 8s 16ms/step - loss: 0.1076 - accuracy: 0.9747 - val_loss: 0.1113 - val_accuracy: 0.9772\n",
      "Epoch 24/30\n",
      "462/462 [==============================] - 7s 16ms/step - loss: 0.1132 - accuracy: 0.9746 - val_loss: 0.1066 - val_accuracy: 0.9761\n",
      "Epoch 25/30\n",
      "462/462 [==============================] - 7s 16ms/step - loss: 0.1135 - accuracy: 0.9752 - val_loss: 0.1210 - val_accuracy: 0.9765\n",
      "Epoch 26/30\n",
      "462/462 [==============================] - 7s 16ms/step - loss: 0.0961 - accuracy: 0.9782 - val_loss: 0.0993 - val_accuracy: 0.9791\n",
      "Epoch 27/30\n",
      "462/462 [==============================] - 8s 17ms/step - loss: 0.0909 - accuracy: 0.9789 - val_loss: 0.0916 - val_accuracy: 0.9799\n",
      "Epoch 28/30\n",
      "462/462 [==============================] - 8s 16ms/step - loss: 0.0981 - accuracy: 0.9784 - val_loss: 0.1064 - val_accuracy: 0.9783\n",
      "Epoch 29/30\n",
      "462/462 [==============================] - 8s 17ms/step - loss: 0.1073 - accuracy: 0.9769 - val_loss: 0.1157 - val_accuracy: 0.9768\n",
      "Epoch 30/30\n",
      "462/462 [==============================] - 8s 17ms/step - loss: 0.0952 - accuracy: 0.9790 - val_loss: 0.1108 - val_accuracy: 0.9786\n"
     ]
    }
   ],
   "source": [
    "# training the model\n",
    "losses = model.fit(X_train, y_train, epochs=30, validation_data=(X_test, y_test), callbacks=[mcp_save], batch_size=128)"
   ]
  },
  {
   "cell_type": "code",
   "execution_count": 59,
   "metadata": {
    "execution": {
     "iopub.execute_input": "2022-04-25T01:52:06.227635Z",
     "iopub.status.busy": "2022-04-25T01:52:06.227312Z",
     "iopub.status.idle": "2022-04-25T01:52:06.539212Z",
     "shell.execute_reply": "2022-04-25T01:52:06.538160Z",
     "shell.execute_reply.started": "2022-04-25T01:52:06.227597Z"
    }
   },
   "outputs": [
    {
     "name": "stdout",
     "output_type": "stream",
     "text": [
      "Train Accuracy\n",
      "0.9790436625480652\n",
      "Validation Accuracy\n",
      "0.9798903465270996\n"
     ]
    },
    {
     "data": {
      "text/plain": [
       "<matplotlib.legend.Legend at 0x2c962e610>"
      ]
     },
     "execution_count": 59,
     "metadata": {},
     "output_type": "execute_result"
    },
    {
     "data": {
      "image/png": "[encoded data removed]",
      "text/plain": [
       "<Figure size 432x288 with 1 Axes>"
      ]
     },
     "metadata": {
      "needs_background": "light"
     },
     "output_type": "display_data"
    }
   ],
   "source": [
    "print(\"Train Accuracy\")\n",
    "print(max(losses.history[\"accuracy\"]))\n",
    "print(\"Validation Accuracy\")\n",
    "print(max(losses.history[\"val_accuracy\"]))\n",
    "\n",
    "%matplotlib inline\n",
    "plt.plot(losses.history[\"accuracy\"], \"r-\",label = 'train data', linewidth = 2)\n",
    "plt.plot(losses.history[\"val_accuracy\"], \"b-\", label = 'val_data', linewidth = 2)\n",
    "\n",
    "plt.ylabel(\"Accuracy\")\n",
    "plt.xlabel(\"Num of epochs\")\n",
    "plt.legend()"
   ]
  },
  {
   "cell_type": "code",
   "execution_count": 60,
   "metadata": {
    "execution": {
     "iopub.execute_input": "2022-04-25T01:52:17.753957Z",
     "iopub.status.busy": "2022-04-25T01:52:17.753650Z",
     "iopub.status.idle": "2022-04-25T01:52:17.761571Z",
     "shell.execute_reply": "2022-04-25T01:52:17.760206Z",
     "shell.execute_reply.started": "2022-04-25T01:52:17.753926Z"
    }
   },
   "outputs": [],
   "source": [
    "from keras.models import Sequential\n",
    "from keras.layers import Dense, Dropout, Flatten\n",
    "from keras.layers import Conv2D, MaxPooling2D\n",
    "from keras.preprocessing import image\n",
    "import numpy as np\n",
    "import pandas as pd\n",
    "from tqdm import tqdm\n",
    "from keras.applications.vgg16 import VGG16\n",
    "import cv2\n",
    "import math\n",
    "import os\n",
    "from glob import glob\n",
    "from scipy import stats as s"
   ]
  },
  {
   "cell_type": "markdown",
   "metadata": {},
   "source": []
  },
  {
   "cell_type": "code",
   "execution_count": 61,
   "metadata": {
    "execution": {
     "iopub.execute_input": "2022-04-25T01:53:08.701845Z",
     "iopub.status.busy": "2022-04-25T01:53:08.701493Z",
     "iopub.status.idle": "2022-04-25T01:53:08.738059Z",
     "shell.execute_reply": "2022-04-25T01:53:08.737336Z",
     "shell.execute_reply.started": "2022-04-25T01:53:08.701813Z"
    }
   },
   "outputs": [
    {
     "data": {
      "text/html": [
       "<div>\n",
       "<style scoped>\n",
       "    .dataframe tbody tr th:only-of-type {\n",
       "        vertical-align: middle;\n",
       "    }\n",
       "\n",
       "    .dataframe tbody tr th {\n",
       "        vertical-align: top;\n",
       "    }\n",
       "\n",
       "    .dataframe thead th {\n",
       "        text-align: right;\n",
       "    }\n",
       "</style>\n",
       "<table border=\"1\" class=\"dataframe\">\n",
       "  <thead>\n",
       "    <tr style=\"text-align: right;\">\n",
       "      <th></th>\n",
       "      <th>video_name</th>\n",
       "    </tr>\n",
       "  </thead>\n",
       "  <tbody>\n",
       "    <tr>\n",
       "      <th>0</th>\n",
       "      <td>ApplyEyeMakeup/v_ApplyEyeMakeup_g01_c01.avi</td>\n",
       "    </tr>\n",
       "    <tr>\n",
       "      <th>1</th>\n",
       "      <td>ApplyEyeMakeup/v_ApplyEyeMakeup_g01_c02.avi</td>\n",
       "    </tr>\n",
       "    <tr>\n",
       "      <th>2</th>\n",
       "      <td>ApplyEyeMakeup/v_ApplyEyeMakeup_g01_c03.avi</td>\n",
       "    </tr>\n",
       "    <tr>\n",
       "      <th>3</th>\n",
       "      <td>ApplyEyeMakeup/v_ApplyEyeMakeup_g01_c04.avi</td>\n",
       "    </tr>\n",
       "    <tr>\n",
       "      <th>4</th>\n",
       "      <td>ApplyEyeMakeup/v_ApplyEyeMakeup_g01_c05.avi</td>\n",
       "    </tr>\n",
       "  </tbody>\n",
       "</table>\n",
       "</div>"
      ],
      "text/plain": [
       "                                    video_name\n",
       "0  ApplyEyeMakeup/v_ApplyEyeMakeup_g01_c01.avi\n",
       "1  ApplyEyeMakeup/v_ApplyEyeMakeup_g01_c02.avi\n",
       "2  ApplyEyeMakeup/v_ApplyEyeMakeup_g01_c03.avi\n",
       "3  ApplyEyeMakeup/v_ApplyEyeMakeup_g01_c04.avi\n",
       "4  ApplyEyeMakeup/v_ApplyEyeMakeup_g01_c05.avi"
      ]
     },
     "execution_count": 61,
     "metadata": {},
     "output_type": "execute_result"
    }
   ],
   "source": [
    "# getting the test list\n",
    "f = open(\"/Users/sanafathima/Downloads/ucfTrainTestlist/testlist01.txt\", \"r\")\n",
    "temp = f.read()\n",
    "videos = temp.split('\\n')\n",
    "\n",
    "# creating the dataframe\n",
    "test = pd.DataFrame()\n",
    "test['video_name'] = videos\n",
    "test = test[:-1]\n",
    "test_videos = test['video_name']\n",
    "test.head()"
   ]
  },
  {
   "cell_type": "code",
   "execution_count": 65,
   "metadata": {
    "execution": {
     "iopub.execute_input": "2022-04-25T01:54:32.131695Z",
     "iopub.status.busy": "2022-04-25T01:54:32.131327Z",
     "iopub.status.idle": "2022-04-25T01:54:32.292380Z",
     "shell.execute_reply": "2022-04-25T01:54:32.291090Z",
     "shell.execute_reply.started": "2022-04-25T01:54:32.131661Z"
    }
   },
   "outputs": [
    {
     "data": {
      "text/plain": [
       "(73844, 101)"
      ]
     },
     "execution_count": 65,
     "metadata": {},
     "output_type": "execute_result"
    }
   ],
   "source": [
    "train = pd.read_csv('./train_new.csv')\n",
    "y = train['class']\n",
    "y = pd.get_dummies(y)\n",
    "y.shape"
   ]
  },
  {
   "cell_type": "code",
   "execution_count": null,
   "metadata": {},
   "outputs": [],
   "source": [
    "os.mkdir('./temp')"
   ]
  },
  {
   "cell_type": "code",
   "execution_count": 32,
   "metadata": {
    "execution": {
     "iopub.execute_input": "2022-04-24T23:45:13.857883Z",
     "iopub.status.busy": "2022-04-24T23:45:13.855663Z",
     "iopub.status.idle": "2022-04-24T23:45:13.907673Z",
     "shell.execute_reply": "2022-04-24T23:45:13.904632Z",
     "shell.execute_reply.started": "2022-04-24T23:45:13.857659Z"
    }
   },
   "outputs": [
    {
     "data": {
      "text/plain": [
       "(20000, 101)"
      ]
     },
     "execution_count": 32,
     "metadata": {},
     "output_type": "execute_result"
    }
   ],
   "source": [
    "y1 = pd.get_dummies(y1)\n",
    "y1.shape"
   ]
  },
  {
   "cell_type": "code",
   "execution_count": 66,
   "metadata": {
    "execution": {
     "iopub.execute_input": "2022-04-25T01:54:38.749572Z",
     "iopub.status.busy": "2022-04-25T01:54:38.749232Z",
     "iopub.status.idle": "2022-04-25T01:54:38.773990Z",
     "shell.execute_reply": "2022-04-25T01:54:38.773019Z",
     "shell.execute_reply.started": "2022-04-25T01:54:38.749533Z"
    }
   },
   "outputs": [
    {
     "data": {
      "text/html": [
       "<div>\n",
       "<style scoped>\n",
       "    .dataframe tbody tr th:only-of-type {\n",
       "        vertical-align: middle;\n",
       "    }\n",
       "\n",
       "    .dataframe tbody tr th {\n",
       "        vertical-align: top;\n",
       "    }\n",
       "\n",
       "    .dataframe thead th {\n",
       "        text-align: right;\n",
       "    }\n",
       "</style>\n",
       "<table border=\"1\" class=\"dataframe\">\n",
       "  <thead>\n",
       "    <tr style=\"text-align: right;\">\n",
       "      <th></th>\n",
       "      <th>ApplyEyeMakeup</th>\n",
       "      <th>ApplyLipstick</th>\n",
       "      <th>Archery</th>\n",
       "      <th>BabyCrawling</th>\n",
       "      <th>BalanceBeam</th>\n",
       "      <th>BandMarching</th>\n",
       "      <th>BaseballPitch</th>\n",
       "      <th>Basketball</th>\n",
       "      <th>BasketballDunk</th>\n",
       "      <th>BenchPress</th>\n",
       "      <th>...</th>\n",
       "      <th>TennisSwing</th>\n",
       "      <th>ThrowDiscus</th>\n",
       "      <th>TrampolineJumping</th>\n",
       "      <th>Typing</th>\n",
       "      <th>UnevenBars</th>\n",
       "      <th>VolleyballSpiking</th>\n",
       "      <th>WalkingWithDog</th>\n",
       "      <th>WallPushups</th>\n",
       "      <th>WritingOnBoard</th>\n",
       "      <th>YoYo</th>\n",
       "    </tr>\n",
       "  </thead>\n",
       "  <tbody>\n",
       "    <tr>\n",
       "      <th>0</th>\n",
       "      <td>0</td>\n",
       "      <td>0</td>\n",
       "      <td>0</td>\n",
       "      <td>0</td>\n",
       "      <td>0</td>\n",
       "      <td>0</td>\n",
       "      <td>0</td>\n",
       "      <td>0</td>\n",
       "      <td>0</td>\n",
       "      <td>0</td>\n",
       "      <td>...</td>\n",
       "      <td>0</td>\n",
       "      <td>0</td>\n",
       "      <td>0</td>\n",
       "      <td>0</td>\n",
       "      <td>0</td>\n",
       "      <td>0</td>\n",
       "      <td>0</td>\n",
       "      <td>0</td>\n",
       "      <td>0</td>\n",
       "      <td>0</td>\n",
       "    </tr>\n",
       "    <tr>\n",
       "      <th>1</th>\n",
       "      <td>0</td>\n",
       "      <td>0</td>\n",
       "      <td>0</td>\n",
       "      <td>0</td>\n",
       "      <td>0</td>\n",
       "      <td>0</td>\n",
       "      <td>0</td>\n",
       "      <td>0</td>\n",
       "      <td>0</td>\n",
       "      <td>0</td>\n",
       "      <td>...</td>\n",
       "      <td>0</td>\n",
       "      <td>0</td>\n",
       "      <td>0</td>\n",
       "      <td>0</td>\n",
       "      <td>0</td>\n",
       "      <td>0</td>\n",
       "      <td>0</td>\n",
       "      <td>0</td>\n",
       "      <td>0</td>\n",
       "      <td>0</td>\n",
       "    </tr>\n",
       "    <tr>\n",
       "      <th>2</th>\n",
       "      <td>0</td>\n",
       "      <td>0</td>\n",
       "      <td>0</td>\n",
       "      <td>0</td>\n",
       "      <td>0</td>\n",
       "      <td>0</td>\n",
       "      <td>0</td>\n",
       "      <td>0</td>\n",
       "      <td>0</td>\n",
       "      <td>0</td>\n",
       "      <td>...</td>\n",
       "      <td>0</td>\n",
       "      <td>0</td>\n",
       "      <td>0</td>\n",
       "      <td>0</td>\n",
       "      <td>0</td>\n",
       "      <td>0</td>\n",
       "      <td>0</td>\n",
       "      <td>0</td>\n",
       "      <td>0</td>\n",
       "      <td>0</td>\n",
       "    </tr>\n",
       "    <tr>\n",
       "      <th>3</th>\n",
       "      <td>0</td>\n",
       "      <td>0</td>\n",
       "      <td>0</td>\n",
       "      <td>0</td>\n",
       "      <td>0</td>\n",
       "      <td>0</td>\n",
       "      <td>0</td>\n",
       "      <td>0</td>\n",
       "      <td>0</td>\n",
       "      <td>0</td>\n",
       "      <td>...</td>\n",
       "      <td>0</td>\n",
       "      <td>0</td>\n",
       "      <td>0</td>\n",
       "      <td>0</td>\n",
       "      <td>0</td>\n",
       "      <td>0</td>\n",
       "      <td>0</td>\n",
       "      <td>0</td>\n",
       "      <td>0</td>\n",
       "      <td>0</td>\n",
       "    </tr>\n",
       "    <tr>\n",
       "      <th>4</th>\n",
       "      <td>0</td>\n",
       "      <td>0</td>\n",
       "      <td>0</td>\n",
       "      <td>0</td>\n",
       "      <td>0</td>\n",
       "      <td>0</td>\n",
       "      <td>0</td>\n",
       "      <td>0</td>\n",
       "      <td>0</td>\n",
       "      <td>0</td>\n",
       "      <td>...</td>\n",
       "      <td>0</td>\n",
       "      <td>0</td>\n",
       "      <td>0</td>\n",
       "      <td>0</td>\n",
       "      <td>0</td>\n",
       "      <td>0</td>\n",
       "      <td>0</td>\n",
       "      <td>0</td>\n",
       "      <td>0</td>\n",
       "      <td>0</td>\n",
       "    </tr>\n",
       "    <tr>\n",
       "      <th>...</th>\n",
       "      <td>...</td>\n",
       "      <td>...</td>\n",
       "      <td>...</td>\n",
       "      <td>...</td>\n",
       "      <td>...</td>\n",
       "      <td>...</td>\n",
       "      <td>...</td>\n",
       "      <td>...</td>\n",
       "      <td>...</td>\n",
       "      <td>...</td>\n",
       "      <td>...</td>\n",
       "      <td>...</td>\n",
       "      <td>...</td>\n",
       "      <td>...</td>\n",
       "      <td>...</td>\n",
       "      <td>...</td>\n",
       "      <td>...</td>\n",
       "      <td>...</td>\n",
       "      <td>...</td>\n",
       "      <td>...</td>\n",
       "      <td>...</td>\n",
       "    </tr>\n",
       "    <tr>\n",
       "      <th>73839</th>\n",
       "      <td>0</td>\n",
       "      <td>0</td>\n",
       "      <td>0</td>\n",
       "      <td>0</td>\n",
       "      <td>0</td>\n",
       "      <td>0</td>\n",
       "      <td>0</td>\n",
       "      <td>0</td>\n",
       "      <td>0</td>\n",
       "      <td>0</td>\n",
       "      <td>...</td>\n",
       "      <td>0</td>\n",
       "      <td>0</td>\n",
       "      <td>0</td>\n",
       "      <td>0</td>\n",
       "      <td>0</td>\n",
       "      <td>0</td>\n",
       "      <td>0</td>\n",
       "      <td>0</td>\n",
       "      <td>0</td>\n",
       "      <td>0</td>\n",
       "    </tr>\n",
       "    <tr>\n",
       "      <th>73840</th>\n",
       "      <td>0</td>\n",
       "      <td>0</td>\n",
       "      <td>0</td>\n",
       "      <td>0</td>\n",
       "      <td>0</td>\n",
       "      <td>0</td>\n",
       "      <td>0</td>\n",
       "      <td>0</td>\n",
       "      <td>0</td>\n",
       "      <td>0</td>\n",
       "      <td>...</td>\n",
       "      <td>0</td>\n",
       "      <td>0</td>\n",
       "      <td>0</td>\n",
       "      <td>0</td>\n",
       "      <td>0</td>\n",
       "      <td>0</td>\n",
       "      <td>0</td>\n",
       "      <td>0</td>\n",
       "      <td>0</td>\n",
       "      <td>0</td>\n",
       "    </tr>\n",
       "    <tr>\n",
       "      <th>73841</th>\n",
       "      <td>0</td>\n",
       "      <td>0</td>\n",
       "      <td>0</td>\n",
       "      <td>0</td>\n",
       "      <td>0</td>\n",
       "      <td>0</td>\n",
       "      <td>0</td>\n",
       "      <td>0</td>\n",
       "      <td>0</td>\n",
       "      <td>0</td>\n",
       "      <td>...</td>\n",
       "      <td>0</td>\n",
       "      <td>0</td>\n",
       "      <td>0</td>\n",
       "      <td>0</td>\n",
       "      <td>0</td>\n",
       "      <td>0</td>\n",
       "      <td>0</td>\n",
       "      <td>0</td>\n",
       "      <td>0</td>\n",
       "      <td>0</td>\n",
       "    </tr>\n",
       "    <tr>\n",
       "      <th>73842</th>\n",
       "      <td>0</td>\n",
       "      <td>0</td>\n",
       "      <td>0</td>\n",
       "      <td>0</td>\n",
       "      <td>0</td>\n",
       "      <td>0</td>\n",
       "      <td>0</td>\n",
       "      <td>0</td>\n",
       "      <td>0</td>\n",
       "      <td>0</td>\n",
       "      <td>...</td>\n",
       "      <td>0</td>\n",
       "      <td>0</td>\n",
       "      <td>0</td>\n",
       "      <td>1</td>\n",
       "      <td>0</td>\n",
       "      <td>0</td>\n",
       "      <td>0</td>\n",
       "      <td>0</td>\n",
       "      <td>0</td>\n",
       "      <td>0</td>\n",
       "    </tr>\n",
       "    <tr>\n",
       "      <th>73843</th>\n",
       "      <td>0</td>\n",
       "      <td>0</td>\n",
       "      <td>0</td>\n",
       "      <td>0</td>\n",
       "      <td>0</td>\n",
       "      <td>0</td>\n",
       "      <td>0</td>\n",
       "      <td>0</td>\n",
       "      <td>0</td>\n",
       "      <td>0</td>\n",
       "      <td>...</td>\n",
       "      <td>0</td>\n",
       "      <td>0</td>\n",
       "      <td>0</td>\n",
       "      <td>0</td>\n",
       "      <td>0</td>\n",
       "      <td>0</td>\n",
       "      <td>0</td>\n",
       "      <td>0</td>\n",
       "      <td>0</td>\n",
       "      <td>0</td>\n",
       "    </tr>\n",
       "  </tbody>\n",
       "</table>\n",
       "<p>73844 rows × 101 columns</p>\n",
       "</div>"
      ],
      "text/plain": [
       "       ApplyEyeMakeup  ApplyLipstick  Archery  BabyCrawling  BalanceBeam  \\\n",
       "0                   0              0        0             0            0   \n",
       "1                   0              0        0             0            0   \n",
       "2                   0              0        0             0            0   \n",
       "3                   0              0        0             0            0   \n",
       "4                   0              0        0             0            0   \n",
       "...               ...            ...      ...           ...          ...   \n",
       "73839               0              0        0             0            0   \n",
       "73840               0              0        0             0            0   \n",
       "73841               0              0        0             0            0   \n",
       "73842               0              0        0             0            0   \n",
       "73843               0              0        0             0            0   \n",
       "\n",
       "       BandMarching  BaseballPitch  Basketball  BasketballDunk  BenchPress  \\\n",
       "0                 0              0           0               0           0   \n",
       "1                 0              0           0               0           0   \n",
       "2                 0              0           0               0           0   \n",
       "3                 0              0           0               0           0   \n",
       "4                 0              0           0               0           0   \n",
       "...             ...            ...         ...             ...         ...   \n",
       "73839             0              0           0               0           0   \n",
       "73840             0              0           0               0           0   \n",
       "73841             0              0           0               0           0   \n",
       "73842             0              0           0               0           0   \n",
       "73843             0              0           0               0           0   \n",
       "\n",
       "       ...  TennisSwing  ThrowDiscus  TrampolineJumping  Typing  UnevenBars  \\\n",
       "0      ...            0            0                  0       0           0   \n",
       "1      ...            0            0                  0       0           0   \n",
       "2      ...            0            0                  0       0           0   \n",
       "3      ...            0            0                  0       0           0   \n",
       "4      ...            0            0                  0       0           0   \n",
       "...    ...          ...          ...                ...     ...         ...   \n",
       "73839  ...            0            0                  0       0           0   \n",
       "73840  ...            0            0                  0       0           0   \n",
       "73841  ...            0            0                  0       0           0   \n",
       "73842  ...            0            0                  0       1           0   \n",
       "73843  ...            0            0                  0       0           0   \n",
       "\n",
       "       VolleyballSpiking  WalkingWithDog  WallPushups  WritingOnBoard  YoYo  \n",
       "0                      0               0            0               0     0  \n",
       "1                      0               0            0               0     0  \n",
       "2                      0               0            0               0     0  \n",
       "3                      0               0            0               0     0  \n",
       "4                      0               0            0               0     0  \n",
       "...                  ...             ...          ...             ...   ...  \n",
       "73839                  0               0            0               0     0  \n",
       "73840                  0               0            0               0     0  \n",
       "73841                  0               0            0               0     0  \n",
       "73842                  0               0            0               0     0  \n",
       "73843                  0               0            0               0     0  \n",
       "\n",
       "[73844 rows x 101 columns]"
      ]
     },
     "execution_count": 66,
     "metadata": {},
     "output_type": "execute_result"
    }
   ],
   "source": [
    "y"
   ]
  },
  {
   "cell_type": "code",
   "execution_count": 67,
   "metadata": {
    "execution": {
     "iopub.execute_input": "2022-04-25T01:54:41.821025Z",
     "iopub.status.busy": "2022-04-25T01:54:41.820478Z",
     "iopub.status.idle": "2022-04-25T01:54:41.826520Z",
     "shell.execute_reply": "2022-04-25T01:54:41.825596Z",
     "shell.execute_reply.started": "2022-04-25T01:54:41.820970Z"
    }
   },
   "outputs": [
    {
     "data": {
      "text/plain": [
       "(3783,)"
      ]
     },
     "execution_count": 67,
     "metadata": {},
     "output_type": "execute_result"
    }
   ],
   "source": [
    "test_videos.shape"
   ]
  },
  {
   "cell_type": "code",
   "execution_count": 68,
   "metadata": {
    "execution": {
     "iopub.execute_input": "2022-04-25T01:54:51.469799Z",
     "iopub.status.busy": "2022-04-25T01:54:51.468900Z",
     "iopub.status.idle": "2022-04-25T02:29:53.327747Z",
     "shell.execute_reply": "2022-04-25T02:29:53.326617Z",
     "shell.execute_reply.started": "2022-04-25T01:54:51.469744Z"
    }
   },
   "outputs": [
    {
     "name": "stderr",
     "output_type": "stream",
     "text": [
      "  0%|                                                  | 0/3783 [00:00<?, ?it/s]2022-04-25 02:09:26.121844: I tensorflow/core/grappler/optimizers/custom_graph_optimizer_registry.cc:112] Plugin optimizer for device_type GPU is enabled.\n",
      " 19%|███████▍                              | 735/3783 [05:40<1:22:07,  1.62s/it]2022-04-25 02:15:04.906710: I tensorflow/core/grappler/optimizers/custom_graph_optimizer_registry.cc:112] Plugin optimizer for device_type GPU is enabled.\n",
      "100%|███████████████████████████████████████| 3783/3783 [30:37<00:00,  2.06it/s]\n"
     ]
    }
   ],
   "source": [
    "# creating two lists to store predicted and actual tags\n",
    "predict = []\n",
    "actual = []\n",
    "\n",
    "# for loop to extract frames from each test video\n",
    "for i in tqdm(range(test_videos.shape[0])):\n",
    "    count = 0\n",
    "    videoFile = test_videos[i]\n",
    "    cap = cv2.VideoCapture('/Users/sanafathima/Downloads/Videos/'+videoFile.split(' ')[0].split('/')[1])   # capturing the video from the given path\n",
    "    frameRate = cap.get(5) #frame rate\n",
    "    x=1\n",
    "    # removing all other files from the temp folder\n",
    "    files = glob('/Users/sanafathima/Downloads/temp/*')\n",
    "    for f in files:\n",
    "        os.remove(f)\n",
    "    while(cap.isOpened()):\n",
    "        frameId = cap.get(1) #current frame number\n",
    "        ret, frame = cap.read()\n",
    "        if (ret != True):\n",
    "            break\n",
    "        if (frameId % math.floor(frameRate) == 0):\n",
    "            # storing the frames of this particular video in temp folder\n",
    "            filename ='/Users/sanafathima/Downloads/temp/' + \"_frame%d.jpg\" % count;count+=1\n",
    "            cv2.imwrite(filename, frame)\n",
    "    cap.release()\n",
    "    \n",
    "    # reading all the frames from temp folder\n",
    "    images = glob(\"/Users/sanafathima/Downloads/temp/*.jpg\")\n",
    "    \n",
    "    prediction_images = np.zeros((len(images), 4096))\n",
    "    for i in range(len(images)):\n",
    "        '''img = image.load_img(images[i], target_size=(112,112,1))\n",
    "        img = image.img_to_array(img)\n",
    "        img = img/255\n",
    "        prediction_images.append(img)'''\n",
    "        image_read = Image.open(images[i])\n",
    "        image_all2 = img2vec.get_vec(image_read,tensor=True)\n",
    "        image_all2 = image_all2.flatten().numpy()\n",
    "        prediction_images[i] = image_all2\n",
    "        \n",
    "    # converting all the frames for a test video into numpy array\n",
    "    #prediction_images = np.array(prediction_images)\n",
    "    # extracting features using pre-trained model\n",
    "    #prediction_images = base_model.predict(prediction_images)\n",
    "    # converting features in one dimensional array\n",
    "    #prediction_images = prediction_images.reshape(prediction_images.shape[0], 3*3*512)\n",
    "    # predicting tags for each array\n",
    "    prediction_x = model.predict(prediction_images)\n",
    "    classes_x=np.argmax(prediction_x,axis=1)\n",
    "    # appending the mode of predictions in predict list to assign the tag to the video\n",
    "    predict.append(y.columns.values[s.mode(classes_x)[0][0]])\n",
    "    # appending the actual tag of the video\n",
    "    actual.append(videoFile.split('/')[1].split('_')[1])\n",
    "        \n",
    "   "
   ]
  },
  {
   "cell_type": "code",
   "execution_count": 69,
   "metadata": {
    "execution": {
     "iopub.execute_input": "2022-04-25T05:01:58.851791Z",
     "iopub.status.busy": "2022-04-25T05:01:58.851017Z",
     "iopub.status.idle": "2022-04-25T05:01:58.868646Z",
     "shell.execute_reply": "2022-04-25T05:01:58.867681Z",
     "shell.execute_reply.started": "2022-04-25T05:01:58.851741Z"
    }
   },
   "outputs": [
    {
     "name": "stdout",
     "output_type": "stream",
     "text": [
      "Test accuracy:  67.22178165477135\n"
     ]
    }
   ],
   "source": [
    "# checking the accuracy of the predicted tags\n",
    "from sklearn.metrics import accuracy_score\n",
    "print(\"Test accuracy: \", accuracy_score(predict, actual)*100)\n"
   ]
  },
  {
   "cell_type": "code",
   "execution_count": 70,
   "metadata": {
    "execution": {
     "iopub.execute_input": "2022-04-25T04:09:02.645752Z",
     "iopub.status.busy": "2022-04-25T04:09:02.644992Z",
     "iopub.status.idle": "2022-04-25T04:09:02.731324Z",
     "shell.execute_reply": "2022-04-25T04:09:02.730167Z",
     "shell.execute_reply.started": "2022-04-25T04:09:02.645701Z"
    }
   },
   "outputs": [
    {
     "name": "stdout",
     "output_type": "stream",
     "text": [
      "                    precision    recall  f1-score   support\n",
      "\n",
      "    ApplyEyeMakeup       0.61      0.70      0.65        44\n",
      "     ApplyLipstick       0.60      0.56      0.58        32\n",
      "           Archery       0.51      0.51      0.51        41\n",
      "      BabyCrawling       0.64      0.97      0.77        35\n",
      "       BalanceBeam       0.50      0.87      0.64        31\n",
      "      BandMarching       0.78      0.98      0.87        43\n",
      "     BaseballPitch       0.84      0.74      0.79        43\n",
      "        Basketball       0.36      0.86      0.51        35\n",
      "    BasketballDunk       0.69      1.00      0.81        37\n",
      "        BenchPress       0.84      0.77      0.80        48\n",
      "            Biking       0.51      1.00      0.68        38\n",
      "         Billiards       1.00      1.00      1.00        40\n",
      "       BlowDryHair       0.49      0.74      0.59        38\n",
      "    BlowingCandles       0.68      0.70      0.69        33\n",
      "  BodyWeightSquats       0.07      0.03      0.05        30\n",
      "           Bowling       0.95      0.81      0.88        43\n",
      " BoxingPunchingBag       0.49      0.45      0.47        49\n",
      "    BoxingSpeedBag       0.70      0.76      0.73        37\n",
      "      BreastStroke       0.53      1.00      0.69        28\n",
      "     BrushingTeeth       0.17      0.11      0.14        36\n",
      "      CleanAndJerk       0.48      0.76      0.59        33\n",
      "       CliffDiving       0.52      0.74      0.61        39\n",
      "    CricketBowling       0.36      0.36      0.36        36\n",
      "       CricketShot       0.67      0.29      0.40        49\n",
      "  CuttingInKitchen       0.80      0.97      0.88        33\n",
      "            Diving       0.90      0.96      0.92        45\n",
      "          Drumming       0.75      0.87      0.80        45\n",
      "           Fencing       0.96      0.74      0.83        34\n",
      "FieldHockeyPenalty       0.53      0.57      0.55        40\n",
      "   FloorGymnastics       0.65      0.56      0.60        36\n",
      "      FrisbeeCatch       0.62      0.78      0.69        37\n",
      "        FrontCrawl       0.90      0.24      0.38        37\n",
      "         GolfSwing       0.61      0.56      0.59        39\n",
      "           Haircut       0.56      0.58      0.57        33\n",
      "       HammerThrow       0.80      0.71      0.75        45\n",
      "         Hammering       0.44      0.33      0.38        33\n",
      "  HandStandPushups       0.92      0.43      0.59        28\n",
      "  HandstandWalking       0.14      0.03      0.05        34\n",
      "       HeadMassage       0.65      0.76      0.70        41\n",
      "          HighJump       0.54      0.35      0.43        37\n",
      "         HorseRace       0.82      0.94      0.88        35\n",
      "       HorseRiding       0.71      0.96      0.82        49\n",
      "          HulaHoop       0.71      0.71      0.71        34\n",
      "        IceDancing       0.90      0.98      0.94        46\n",
      "      JavelinThrow       0.43      0.52      0.47        31\n",
      "     JugglingBalls       0.28      0.53      0.37        40\n",
      "          JumpRope       0.00      0.00      0.00        38\n",
      "       JumpingJack       0.49      0.57      0.53        37\n",
      "          Kayaking       0.82      0.86      0.84        36\n",
      "          Knitting       0.83      1.00      0.91        34\n",
      "          LongJump       0.48      0.62      0.54        39\n",
      "            Lunges       0.48      0.65      0.55        37\n",
      "    MilitaryParade       0.87      0.79      0.83        33\n",
      "            Mixing       0.97      0.67      0.79        45\n",
      "      MoppingFloor       0.62      0.62      0.62        34\n",
      "         Nunchucks       0.00      0.00      0.00        35\n",
      "      ParallelBars       0.66      0.78      0.72        37\n",
      "      PizzaTossing       0.33      0.36      0.35        33\n",
      "      PlayingCello       0.87      0.77      0.82        44\n",
      "        PlayingDaf       0.94      0.83      0.88        41\n",
      "       PlayingDhol       0.97      0.59      0.73        49\n",
      "      PlayingFlute       0.77      0.77      0.77        48\n",
      "     PlayingGuitar       1.00      0.86      0.92        43\n",
      "      PlayingPiano       0.75      0.96      0.84        28\n",
      "      PlayingSitar       0.98      1.00      0.99        44\n",
      "      PlayingTabla       0.97      0.97      0.97        31\n",
      "     PlayingViolin       0.62      0.75      0.68        28\n",
      "         PoleVault       0.51      0.82      0.63        40\n",
      "       PommelHorse       0.94      0.46      0.62        35\n",
      "           PullUps       0.60      0.21      0.32        28\n",
      "             Punch       0.94      0.85      0.89        39\n",
      "           PushUps       0.44      0.13      0.21        30\n",
      "           Rafting       0.96      0.82      0.88        28\n",
      "RockClimbingIndoor       0.93      0.90      0.91        41\n",
      "      RopeClimbing       0.55      0.32      0.41        34\n",
      "            Rowing       1.00      0.89      0.94        36\n",
      "         SalsaSpin       0.45      0.42      0.43        43\n",
      "      ShavingBeard       0.61      0.51      0.56        43\n",
      "           Shotput       0.33      0.17      0.23        46\n",
      "     SkateBoarding       0.70      0.59      0.64        32\n",
      "            Skiing       0.74      0.78      0.76        40\n",
      "            Skijet       1.00      1.00      1.00        28\n",
      "         SkyDiving       0.81      0.94      0.87        31\n",
      "    SoccerJuggling       0.53      0.41      0.46        39\n",
      "     SoccerPenalty       0.89      0.83      0.86        41\n",
      "        StillRings       0.88      0.69      0.77        32\n",
      "     SumoWrestling       0.78      0.91      0.84        34\n",
      "           Surfing       1.00      0.88      0.94        33\n",
      "             Swing       0.91      0.71      0.80        42\n",
      "   TableTennisShot       1.00      0.77      0.87        39\n",
      "            TaiChi       0.81      0.61      0.69        28\n",
      "       TennisSwing       0.76      0.51      0.61        49\n",
      "       ThrowDiscus       0.37      0.58      0.45        38\n",
      " TrampolineJumping       0.72      0.81      0.76        32\n",
      "            Typing       0.87      0.93      0.90        43\n",
      "        UnevenBars       0.95      0.75      0.84        28\n",
      " VolleyballSpiking       0.76      0.71      0.74        35\n",
      "    WalkingWithDog       0.58      0.61      0.59        36\n",
      "       WallPushups       0.36      0.43      0.39        35\n",
      "    WritingOnBoard       1.00      0.82      0.90        45\n",
      "              YoYo       0.81      0.61      0.70        36\n",
      "\n",
      "          accuracy                           0.67      3783\n",
      "         macro avg       0.68      0.67      0.66      3783\n",
      "      weighted avg       0.68      0.67      0.66      3783\n",
      "\n"
     ]
    }
   ],
   "source": [
    "from sklearn.metrics import classification_report\n",
    "print(classification_report(actual, predict, target_names=y.columns.values))"
   ]
  },
  {
   "cell_type": "code",
   "execution_count": null,
   "metadata": {},
   "outputs": [],
   "source": []
  }
 ],
 "metadata": {
  "kernelspec": {
   "display_name": "Python 3 (ipykernel)",
   "language": "python",
   "name": "python3"
  },
  "language_info": {
   "codemirror_mode": {
    "name": "ipython",
    "version": 3
   },
   "file_extension": ".py",
   "mimetype": "text/x-python",
   "name": "python",
   "nbconvert_exporter": "python",
   "pygments_lexer": "ipython3",
   "version": "3.8.12"
  }
 },
 "nbformat": 4,
 "nbformat_minor": 4
}
